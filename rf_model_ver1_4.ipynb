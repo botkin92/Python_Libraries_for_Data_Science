{
  "nbformat": 4,
  "nbformat_minor": 0,
  "metadata": {
    "colab": {
      "name": "rf_model_ver1.4.ipynb",
      "provenance": [],
      "collapsed_sections": [],
      "toc_visible": true,
      "authorship_tag": "ABX9TyPVRHvw0xeD/vlxXFJho9er",
      "include_colab_link": true
    },
    "kernelspec": {
      "name": "python3",
      "display_name": "Python 3"
    },
    "language_info": {
      "name": "python"
    }
  },
  "cells": [
    {
      "cell_type": "markdown",
      "metadata": {
        "id": "view-in-github",
        "colab_type": "text"
      },
      "source": [
        "<a href=\"https://colab.research.google.com/github/botkin92/Python_Libraries_for_Data_Science/blob/Final_project/rf_model_ver1_4.ipynb\" target=\"_parent\"><img src=\"https://colab.research.google.com/assets/colab-badge.svg\" alt=\"Open In Colab\"/></a>"
      ]
    },
    {
      "cell_type": "code",
      "metadata": {
        "id": "cqOZCNHy6hPS"
      },
      "source": [
        "import numpy as np\n",
        "import pandas as pd\n",
        "\n",
        "# from sklearn.preprocessing import MinMaxScaler\n",
        "# from sklearn.preprocessing import StandardScaler\n",
        "from datetime import datetime\n",
        "from sklearn.decomposition import PCA\n",
        "\n",
        "from sklearn.model_selection import train_test_split\n",
        "# from sklearn.linear_model import LinearRegression\n",
        "from sklearn.ensemble import RandomForestRegressor\n",
        "\n",
        "from sklearn.model_selection import GridSearchCV\n",
        "from sklearn.metrics import mean_squared_error as mse, r2_score as r2\n",
        "\n",
        "from matplotlib import pyplot as plt\n",
        "import seaborn as sns"
      ],
      "execution_count": 707,
      "outputs": []
    },
    {
      "cell_type": "code",
      "metadata": {
        "id": "CA8wEQTaLbaq"
      },
      "source": [
        "import warnings\n",
        "warnings.filterwarnings('ignore')"
      ],
      "execution_count": 708,
      "outputs": []
    },
    {
      "cell_type": "markdown",
      "metadata": {
        "id": "xjjuyXc1zUVs"
      },
      "source": [
        "## Загрузка данных"
      ]
    },
    {
      "cell_type": "code",
      "metadata": {
        "colab": {
          "base_uri": "https://localhost:8080/"
        },
        "id": "EAOzZL5w8NM0",
        "outputId": "66e0ba5e-37c3-4b61-da58-d9ae853ca8d8"
      },
      "source": [
        "from google.colab import drive\n",
        "drive.mount('/gdrive')\n",
        "%cd /gdrive"
      ],
      "execution_count": 709,
      "outputs": [
        {
          "output_type": "stream",
          "text": [
            "Drive already mounted at /gdrive; to attempt to forcibly remount, call drive.mount(\"/gdrive\", force_remount=True).\n",
            "/gdrive\n"
          ],
          "name": "stdout"
        }
      ]
    },
    {
      "cell_type": "code",
      "metadata": {
        "id": "1Gi0FRfo8Uw6"
      },
      "source": [
        "train_df = pd.read_csv('MyDrive/Python Libraries for Data Science/train.csv')\n",
        "test_df = pd.read_csv('MyDrive/Python Libraries for Data Science/test.csv')"
      ],
      "execution_count": 710,
      "outputs": []
    },
    {
      "cell_type": "markdown",
      "metadata": {
        "id": "9SOHljQyzpVp"
      },
      "source": [
        "## 1. EDA"
      ]
    },
    {
      "cell_type": "code",
      "metadata": {
        "colab": {
          "base_uri": "https://localhost:8080/"
        },
        "id": "Y7cdkrPt-INH",
        "outputId": "a1640d08-0757-46b9-8bfa-f26eeb756684"
      },
      "source": [
        "train_df.dtypes"
      ],
      "execution_count": 711,
      "outputs": [
        {
          "output_type": "execute_result",
          "data": {
            "text/plain": [
              "Id                 int64\n",
              "DistrictId         int64\n",
              "Rooms            float64\n",
              "Square           float64\n",
              "LifeSquare       float64\n",
              "KitchenSquare    float64\n",
              "Floor              int64\n",
              "HouseFloor       float64\n",
              "HouseYear          int64\n",
              "Ecology_1        float64\n",
              "Ecology_2         object\n",
              "Ecology_3         object\n",
              "Social_1           int64\n",
              "Social_2           int64\n",
              "Social_3           int64\n",
              "Healthcare_1     float64\n",
              "Helthcare_2        int64\n",
              "Shops_1            int64\n",
              "Shops_2           object\n",
              "Price            float64\n",
              "dtype: object"
            ]
          },
          "metadata": {
            "tags": []
          },
          "execution_count": 711
        }
      ]
    },
    {
      "cell_type": "code",
      "metadata": {
        "colab": {
          "base_uri": "https://localhost:8080/"
        },
        "id": "A3qLovhQ-KMl",
        "outputId": "72b49d27-e8a7-40a1-d01c-016b3cb47c43"
      },
      "source": [
        "train_df.info()"
      ],
      "execution_count": 712,
      "outputs": [
        {
          "output_type": "stream",
          "text": [
            "<class 'pandas.core.frame.DataFrame'>\n",
            "RangeIndex: 10000 entries, 0 to 9999\n",
            "Data columns (total 20 columns):\n",
            " #   Column         Non-Null Count  Dtype  \n",
            "---  ------         --------------  -----  \n",
            " 0   Id             10000 non-null  int64  \n",
            " 1   DistrictId     10000 non-null  int64  \n",
            " 2   Rooms          10000 non-null  float64\n",
            " 3   Square         10000 non-null  float64\n",
            " 4   LifeSquare     7887 non-null   float64\n",
            " 5   KitchenSquare  10000 non-null  float64\n",
            " 6   Floor          10000 non-null  int64  \n",
            " 7   HouseFloor     10000 non-null  float64\n",
            " 8   HouseYear      10000 non-null  int64  \n",
            " 9   Ecology_1      10000 non-null  float64\n",
            " 10  Ecology_2      10000 non-null  object \n",
            " 11  Ecology_3      10000 non-null  object \n",
            " 12  Social_1       10000 non-null  int64  \n",
            " 13  Social_2       10000 non-null  int64  \n",
            " 14  Social_3       10000 non-null  int64  \n",
            " 15  Healthcare_1   5202 non-null   float64\n",
            " 16  Helthcare_2    10000 non-null  int64  \n",
            " 17  Shops_1        10000 non-null  int64  \n",
            " 18  Shops_2        10000 non-null  object \n",
            " 19  Price          10000 non-null  float64\n",
            "dtypes: float64(8), int64(9), object(3)\n",
            "memory usage: 1.5+ MB\n"
          ],
          "name": "stdout"
        }
      ]
    },
    {
      "cell_type": "markdown",
      "metadata": {
        "id": "O89xWqe60Mtd"
      },
      "source": [
        "### Целевая переменная"
      ]
    },
    {
      "cell_type": "code",
      "metadata": {
        "colab": {
          "base_uri": "https://localhost:8080/",
          "height": 532
        },
        "id": "Ue_6sAo0sTjR",
        "outputId": "f0fb12f8-284f-4e53-f3cd-82f9b2b61aa0"
      },
      "source": [
        "plt.figure(figsize = (16, 8))\n",
        "\n",
        "train_df['Price'].hist(bins=30)\n",
        "plt.ylabel('Count')\n",
        "plt.xlabel('Price')\n",
        "\n",
        "plt.title('Target distribution')\n",
        "plt.show()"
      ],
      "execution_count": 713,
      "outputs": [
        {
          "output_type": "display_data",
          "data": {
            "image/png": "[encoded data removed]",
            "text/plain": [
              "<Figure size 1152x576 with 1 Axes>"
            ]
          },
          "metadata": {
            "tags": []
          }
        }
      ]
    },
    {
      "cell_type": "markdown",
      "metadata": {
        "id": "F4DuZnAn0eWT"
      },
      "source": [
        "### Признаки"
      ]
    },
    {
      "cell_type": "code",
      "metadata": {
        "colab": {
          "base_uri": "https://localhost:8080/",
          "height": 217
        },
        "id": "zvLlipJNKjyF",
        "outputId": "5180e166-962d-46b6-b7b6-8744b5946447"
      },
      "source": [
        "train_df.head()"
      ],
      "execution_count": 714,
      "outputs": [
        {
          "output_type": "execute_result",
          "data": {
            "text/html": [
              "<div>\n",
              "<style scoped>\n",
              "    .dataframe tbody tr th:only-of-type {\n",
              "        vertical-align: middle;\n",
              "    }\n",
              "\n",
              "    .dataframe tbody tr th {\n",
              "        vertical-align: top;\n",
              "    }\n",
              "\n",
              "    .dataframe thead th {\n",
              "        text-align: right;\n",
              "    }\n",
              "</style>\n",
              "<table border=\"1\" class=\"dataframe\">\n",
              "  <thead>\n",
              "    <tr style=\"text-align: right;\">\n",
              "      <th></th>\n",
              "      <th>Id</th>\n",
              "      <th>DistrictId</th>\n",
              "      <th>Rooms</th>\n",
              "      <th>Square</th>\n",
              "      <th>LifeSquare</th>\n",
              "      <th>KitchenSquare</th>\n",
              "      <th>Floor</th>\n",
              "      <th>HouseFloor</th>\n",
              "      <th>HouseYear</th>\n",
              "      <th>Ecology_1</th>\n",
              "      <th>Ecology_2</th>\n",
              "      <th>Ecology_3</th>\n",
              "      <th>Social_1</th>\n",
              "      <th>Social_2</th>\n",
              "      <th>Social_3</th>\n",
              "      <th>Healthcare_1</th>\n",
              "      <th>Helthcare_2</th>\n",
              "      <th>Shops_1</th>\n",
              "      <th>Shops_2</th>\n",
              "      <th>Price</th>\n",
              "    </tr>\n",
              "  </thead>\n",
              "  <tbody>\n",
              "    <tr>\n",
              "      <th>0</th>\n",
              "      <td>11809</td>\n",
              "      <td>27</td>\n",
              "      <td>3.0</td>\n",
              "      <td>115.027311</td>\n",
              "      <td>NaN</td>\n",
              "      <td>10.0</td>\n",
              "      <td>4</td>\n",
              "      <td>10.0</td>\n",
              "      <td>2014</td>\n",
              "      <td>0.075424</td>\n",
              "      <td>B</td>\n",
              "      <td>B</td>\n",
              "      <td>11</td>\n",
              "      <td>3097</td>\n",
              "      <td>0</td>\n",
              "      <td>NaN</td>\n",
              "      <td>0</td>\n",
              "      <td>0</td>\n",
              "      <td>B</td>\n",
              "      <td>305018.871089</td>\n",
              "    </tr>\n",
              "    <tr>\n",
              "      <th>1</th>\n",
              "      <td>3013</td>\n",
              "      <td>22</td>\n",
              "      <td>1.0</td>\n",
              "      <td>39.832524</td>\n",
              "      <td>23.169223</td>\n",
              "      <td>8.0</td>\n",
              "      <td>7</td>\n",
              "      <td>8.0</td>\n",
              "      <td>1966</td>\n",
              "      <td>0.118537</td>\n",
              "      <td>B</td>\n",
              "      <td>B</td>\n",
              "      <td>30</td>\n",
              "      <td>6207</td>\n",
              "      <td>1</td>\n",
              "      <td>1183.0</td>\n",
              "      <td>1</td>\n",
              "      <td>0</td>\n",
              "      <td>B</td>\n",
              "      <td>177734.553407</td>\n",
              "    </tr>\n",
              "    <tr>\n",
              "      <th>2</th>\n",
              "      <td>8215</td>\n",
              "      <td>1</td>\n",
              "      <td>3.0</td>\n",
              "      <td>78.342215</td>\n",
              "      <td>47.671972</td>\n",
              "      <td>10.0</td>\n",
              "      <td>2</td>\n",
              "      <td>17.0</td>\n",
              "      <td>1988</td>\n",
              "      <td>0.025609</td>\n",
              "      <td>B</td>\n",
              "      <td>B</td>\n",
              "      <td>33</td>\n",
              "      <td>5261</td>\n",
              "      <td>0</td>\n",
              "      <td>240.0</td>\n",
              "      <td>3</td>\n",
              "      <td>1</td>\n",
              "      <td>B</td>\n",
              "      <td>282078.720850</td>\n",
              "    </tr>\n",
              "    <tr>\n",
              "      <th>3</th>\n",
              "      <td>2352</td>\n",
              "      <td>1</td>\n",
              "      <td>1.0</td>\n",
              "      <td>40.409907</td>\n",
              "      <td>NaN</td>\n",
              "      <td>1.0</td>\n",
              "      <td>10</td>\n",
              "      <td>22.0</td>\n",
              "      <td>1977</td>\n",
              "      <td>0.007122</td>\n",
              "      <td>B</td>\n",
              "      <td>B</td>\n",
              "      <td>1</td>\n",
              "      <td>264</td>\n",
              "      <td>0</td>\n",
              "      <td>NaN</td>\n",
              "      <td>0</td>\n",
              "      <td>1</td>\n",
              "      <td>B</td>\n",
              "      <td>168106.007630</td>\n",
              "    </tr>\n",
              "    <tr>\n",
              "      <th>4</th>\n",
              "      <td>13866</td>\n",
              "      <td>94</td>\n",
              "      <td>2.0</td>\n",
              "      <td>64.285067</td>\n",
              "      <td>38.562517</td>\n",
              "      <td>9.0</td>\n",
              "      <td>16</td>\n",
              "      <td>16.0</td>\n",
              "      <td>1972</td>\n",
              "      <td>0.282798</td>\n",
              "      <td>B</td>\n",
              "      <td>B</td>\n",
              "      <td>33</td>\n",
              "      <td>8667</td>\n",
              "      <td>2</td>\n",
              "      <td>NaN</td>\n",
              "      <td>0</td>\n",
              "      <td>6</td>\n",
              "      <td>B</td>\n",
              "      <td>343995.102962</td>\n",
              "    </tr>\n",
              "  </tbody>\n",
              "</table>\n",
              "</div>"
            ],
            "text/plain": [
              "      Id  DistrictId  Rooms  ...  Shops_1  Shops_2          Price\n",
              "0  11809          27    3.0  ...        0        B  305018.871089\n",
              "1   3013          22    1.0  ...        0        B  177734.553407\n",
              "2   8215           1    3.0  ...        1        B  282078.720850\n",
              "3   2352           1    1.0  ...        1        B  168106.007630\n",
              "4  13866          94    2.0  ...        6        B  343995.102962\n",
              "\n",
              "[5 rows x 20 columns]"
            ]
          },
          "metadata": {
            "tags": []
          },
          "execution_count": 714
        }
      ]
    },
    {
      "cell_type": "code",
      "metadata": {
        "colab": {
          "base_uri": "https://localhost:8080/",
          "height": 307
        },
        "id": "j-uNrU9gAImN",
        "outputId": "99e90c68-7228-4fc1-dccc-2bacf19da1be"
      },
      "source": [
        "train_df.describe()"
      ],
      "execution_count": 715,
      "outputs": [
        {
          "output_type": "execute_result",
          "data": {
            "text/html": [
              "<div>\n",
              "<style scoped>\n",
              "    .dataframe tbody tr th:only-of-type {\n",
              "        vertical-align: middle;\n",
              "    }\n",
              "\n",
              "    .dataframe tbody tr th {\n",
              "        vertical-align: top;\n",
              "    }\n",
              "\n",
              "    .dataframe thead th {\n",
              "        text-align: right;\n",
              "    }\n",
              "</style>\n",
              "<table border=\"1\" class=\"dataframe\">\n",
              "  <thead>\n",
              "    <tr style=\"text-align: right;\">\n",
              "      <th></th>\n",
              "      <th>Id</th>\n",
              "      <th>DistrictId</th>\n",
              "      <th>Rooms</th>\n",
              "      <th>Square</th>\n",
              "      <th>LifeSquare</th>\n",
              "      <th>KitchenSquare</th>\n",
              "      <th>Floor</th>\n",
              "      <th>HouseFloor</th>\n",
              "      <th>HouseYear</th>\n",
              "      <th>Ecology_1</th>\n",
              "      <th>Social_1</th>\n",
              "      <th>Social_2</th>\n",
              "      <th>Social_3</th>\n",
              "      <th>Healthcare_1</th>\n",
              "      <th>Helthcare_2</th>\n",
              "      <th>Shops_1</th>\n",
              "      <th>Price</th>\n",
              "    </tr>\n",
              "  </thead>\n",
              "  <tbody>\n",
              "    <tr>\n",
              "      <th>count</th>\n",
              "      <td>10000.00000</td>\n",
              "      <td>10000.000000</td>\n",
              "      <td>10000.000000</td>\n",
              "      <td>10000.000000</td>\n",
              "      <td>7887.000000</td>\n",
              "      <td>10000.000000</td>\n",
              "      <td>10000.000000</td>\n",
              "      <td>10000.000000</td>\n",
              "      <td>1.000000e+04</td>\n",
              "      <td>10000.000000</td>\n",
              "      <td>10000.000000</td>\n",
              "      <td>10000.000000</td>\n",
              "      <td>10000.000000</td>\n",
              "      <td>5202.000000</td>\n",
              "      <td>10000.000000</td>\n",
              "      <td>10000.000000</td>\n",
              "      <td>10000.000000</td>\n",
              "    </tr>\n",
              "    <tr>\n",
              "      <th>mean</th>\n",
              "      <td>8383.40770</td>\n",
              "      <td>50.400800</td>\n",
              "      <td>1.890500</td>\n",
              "      <td>56.315775</td>\n",
              "      <td>37.199645</td>\n",
              "      <td>6.273300</td>\n",
              "      <td>8.526700</td>\n",
              "      <td>12.609400</td>\n",
              "      <td>3.990166e+03</td>\n",
              "      <td>0.118858</td>\n",
              "      <td>24.687000</td>\n",
              "      <td>5352.157400</td>\n",
              "      <td>8.039200</td>\n",
              "      <td>1142.904460</td>\n",
              "      <td>1.319500</td>\n",
              "      <td>4.231300</td>\n",
              "      <td>214138.857399</td>\n",
              "    </tr>\n",
              "    <tr>\n",
              "      <th>std</th>\n",
              "      <td>4859.01902</td>\n",
              "      <td>43.587592</td>\n",
              "      <td>0.839512</td>\n",
              "      <td>21.058732</td>\n",
              "      <td>86.241209</td>\n",
              "      <td>28.560917</td>\n",
              "      <td>5.241148</td>\n",
              "      <td>6.775974</td>\n",
              "      <td>2.005003e+05</td>\n",
              "      <td>0.119025</td>\n",
              "      <td>17.532614</td>\n",
              "      <td>4006.799803</td>\n",
              "      <td>23.831875</td>\n",
              "      <td>1021.517264</td>\n",
              "      <td>1.493601</td>\n",
              "      <td>4.806341</td>\n",
              "      <td>92872.293865</td>\n",
              "    </tr>\n",
              "    <tr>\n",
              "      <th>min</th>\n",
              "      <td>0.00000</td>\n",
              "      <td>0.000000</td>\n",
              "      <td>0.000000</td>\n",
              "      <td>1.136859</td>\n",
              "      <td>0.370619</td>\n",
              "      <td>0.000000</td>\n",
              "      <td>1.000000</td>\n",
              "      <td>0.000000</td>\n",
              "      <td>1.910000e+03</td>\n",
              "      <td>0.000000</td>\n",
              "      <td>0.000000</td>\n",
              "      <td>168.000000</td>\n",
              "      <td>0.000000</td>\n",
              "      <td>0.000000</td>\n",
              "      <td>0.000000</td>\n",
              "      <td>0.000000</td>\n",
              "      <td>59174.778028</td>\n",
              "    </tr>\n",
              "    <tr>\n",
              "      <th>25%</th>\n",
              "      <td>4169.50000</td>\n",
              "      <td>20.000000</td>\n",
              "      <td>1.000000</td>\n",
              "      <td>41.774881</td>\n",
              "      <td>22.769832</td>\n",
              "      <td>1.000000</td>\n",
              "      <td>4.000000</td>\n",
              "      <td>9.000000</td>\n",
              "      <td>1.974000e+03</td>\n",
              "      <td>0.017647</td>\n",
              "      <td>6.000000</td>\n",
              "      <td>1564.000000</td>\n",
              "      <td>0.000000</td>\n",
              "      <td>350.000000</td>\n",
              "      <td>0.000000</td>\n",
              "      <td>1.000000</td>\n",
              "      <td>153872.633942</td>\n",
              "    </tr>\n",
              "    <tr>\n",
              "      <th>50%</th>\n",
              "      <td>8394.50000</td>\n",
              "      <td>36.000000</td>\n",
              "      <td>2.000000</td>\n",
              "      <td>52.513310</td>\n",
              "      <td>32.781260</td>\n",
              "      <td>6.000000</td>\n",
              "      <td>7.000000</td>\n",
              "      <td>13.000000</td>\n",
              "      <td>1.977000e+03</td>\n",
              "      <td>0.075424</td>\n",
              "      <td>25.000000</td>\n",
              "      <td>5285.000000</td>\n",
              "      <td>2.000000</td>\n",
              "      <td>900.000000</td>\n",
              "      <td>1.000000</td>\n",
              "      <td>3.000000</td>\n",
              "      <td>192269.644879</td>\n",
              "    </tr>\n",
              "    <tr>\n",
              "      <th>75%</th>\n",
              "      <td>12592.50000</td>\n",
              "      <td>75.000000</td>\n",
              "      <td>2.000000</td>\n",
              "      <td>65.900625</td>\n",
              "      <td>45.128803</td>\n",
              "      <td>9.000000</td>\n",
              "      <td>12.000000</td>\n",
              "      <td>17.000000</td>\n",
              "      <td>2.001000e+03</td>\n",
              "      <td>0.195781</td>\n",
              "      <td>36.000000</td>\n",
              "      <td>7227.000000</td>\n",
              "      <td>5.000000</td>\n",
              "      <td>1548.000000</td>\n",
              "      <td>2.000000</td>\n",
              "      <td>6.000000</td>\n",
              "      <td>249135.462171</td>\n",
              "    </tr>\n",
              "    <tr>\n",
              "      <th>max</th>\n",
              "      <td>16798.00000</td>\n",
              "      <td>209.000000</td>\n",
              "      <td>19.000000</td>\n",
              "      <td>641.065193</td>\n",
              "      <td>7480.592129</td>\n",
              "      <td>2014.000000</td>\n",
              "      <td>42.000000</td>\n",
              "      <td>117.000000</td>\n",
              "      <td>2.005201e+07</td>\n",
              "      <td>0.521867</td>\n",
              "      <td>74.000000</td>\n",
              "      <td>19083.000000</td>\n",
              "      <td>141.000000</td>\n",
              "      <td>4849.000000</td>\n",
              "      <td>6.000000</td>\n",
              "      <td>23.000000</td>\n",
              "      <td>633233.466570</td>\n",
              "    </tr>\n",
              "  </tbody>\n",
              "</table>\n",
              "</div>"
            ],
            "text/plain": [
              "                Id    DistrictId  ...       Shops_1          Price\n",
              "count  10000.00000  10000.000000  ...  10000.000000   10000.000000\n",
              "mean    8383.40770     50.400800  ...      4.231300  214138.857399\n",
              "std     4859.01902     43.587592  ...      4.806341   92872.293865\n",
              "min        0.00000      0.000000  ...      0.000000   59174.778028\n",
              "25%     4169.50000     20.000000  ...      1.000000  153872.633942\n",
              "50%     8394.50000     36.000000  ...      3.000000  192269.644879\n",
              "75%    12592.50000     75.000000  ...      6.000000  249135.462171\n",
              "max    16798.00000    209.000000  ...     23.000000  633233.466570\n",
              "\n",
              "[8 rows x 17 columns]"
            ]
          },
          "metadata": {
            "tags": []
          },
          "execution_count": 715
        }
      ]
    },
    {
      "cell_type": "code",
      "metadata": {
        "colab": {
          "base_uri": "https://localhost:8080/",
          "height": 945
        },
        "id": "-JiL7LeOS6zF",
        "outputId": "b9a396b4-de9f-485f-9c62-518c234b693d"
      },
      "source": [
        "train_df.hist(figsize=(16,16), bins=20, grid=False);"
      ],
      "execution_count": 716,
      "outputs": [
        {
          "output_type": "display_data",
          "data": {
            "image/png": "[encoded data removed]",
            "text/plain": [
              "<Figure size 1152x1152 with 20 Axes>"
            ]
          },
          "metadata": {
            "tags": []
          }
        }
      ]
    },
    {
      "cell_type": "code",
      "metadata": {
        "colab": {
          "base_uri": "https://localhost:8080/",
          "height": 716
        },
        "id": "ZsBZucaw0v5E",
        "outputId": "bad27f9d-f70e-4675-a235-bab4237c789d"
      },
      "source": [
        "plt.figure(figsize = (15,10))\n",
        "\n",
        "sns.set(font_scale=1.4)\n",
        "\n",
        "corr_matrix = train_df.corr()\n",
        "corr_matrix = np.round(corr_matrix, 2)\n",
        "corr_matrix[np.abs(corr_matrix) < 0.3] = 0\n",
        "\n",
        "sns.heatmap(corr_matrix, annot=True, linewidths=.5, cmap='coolwarm')\n",
        "\n",
        "plt.title('Correlation matrix')\n",
        "plt.show()"
      ],
      "execution_count": 717,
      "outputs": [
        {
          "output_type": "display_data",
          "data": {
            "image/png": "[encoded data removed]",
            "text/plain": [
              "<Figure size 1080x720 with 2 Axes>"
            ]
          },
          "metadata": {
            "tags": []
          }
        }
      ]
    },
    {
      "cell_type": "markdown",
      "metadata": {
        "id": "1633Z0iR0581"
      },
      "source": [
        "## 2. Предобработка данных"
      ]
    },
    {
      "cell_type": "markdown",
      "metadata": {
        "id": "t4n4Ezdk3pBx"
      },
      "source": [
        "### Заполнение пропусков"
      ]
    },
    {
      "cell_type": "code",
      "metadata": {
        "colab": {
          "base_uri": "https://localhost:8080/"
        },
        "id": "96N4I_bZ3uV8",
        "outputId": "85ac19d2-4b98-4094-ac85-e8460d8dcd6b"
      },
      "source": [
        "train_df.isna().sum()"
      ],
      "execution_count": 718,
      "outputs": [
        {
          "output_type": "execute_result",
          "data": {
            "text/plain": [
              "Id                  0\n",
              "DistrictId          0\n",
              "Rooms               0\n",
              "Square              0\n",
              "LifeSquare       2113\n",
              "KitchenSquare       0\n",
              "Floor               0\n",
              "HouseFloor          0\n",
              "HouseYear           0\n",
              "Ecology_1           0\n",
              "Ecology_2           0\n",
              "Ecology_3           0\n",
              "Social_1            0\n",
              "Social_2            0\n",
              "Social_3            0\n",
              "Healthcare_1     4798\n",
              "Helthcare_2         0\n",
              "Shops_1             0\n",
              "Shops_2             0\n",
              "Price               0\n",
              "dtype: int64"
            ]
          },
          "metadata": {
            "tags": []
          },
          "execution_count": 718
        }
      ]
    },
    {
      "cell_type": "markdown",
      "metadata": {
        "id": "YC2KoxsFO-pu"
      },
      "source": [
        "#### LifeSquare"
      ]
    },
    {
      "cell_type": "code",
      "metadata": {
        "id": "qopST3b7lk1o"
      },
      "source": [
        "train_df.loc[train_df['LifeSquare'].isna(), 'LifeSquare'] = train_df['Square'] - train_df['KitchenSquare'] - 3"
      ],
      "execution_count": 719,
      "outputs": []
    },
    {
      "cell_type": "markdown",
      "metadata": {
        "id": "s51dKsyIP6h6"
      },
      "source": [
        "#### Healthcare_1"
      ]
    },
    {
      "cell_type": "code",
      "metadata": {
        "id": "6RncWEfKQN0G"
      },
      "source": [
        "# Значительное количество тренировочных данных (48 %) признака Healthcare_1 пропушено. Поэтому лучше просто не использовать этот признак в модели.\n",
        "train_df.drop('Healthcare_1', axis=1, inplace=True)"
      ],
      "execution_count": 720,
      "outputs": []
    },
    {
      "cell_type": "code",
      "metadata": {
        "colab": {
          "base_uri": "https://localhost:8080/"
        },
        "id": "B230PTfTUDQY",
        "outputId": "4c890077-7108-46a0-fbad-b5aab3316121"
      },
      "source": [
        "train_df.isna().sum()"
      ],
      "execution_count": 721,
      "outputs": [
        {
          "output_type": "execute_result",
          "data": {
            "text/plain": [
              "Id               0\n",
              "DistrictId       0\n",
              "Rooms            0\n",
              "Square           0\n",
              "LifeSquare       0\n",
              "KitchenSquare    0\n",
              "Floor            0\n",
              "HouseFloor       0\n",
              "HouseYear        0\n",
              "Ecology_1        0\n",
              "Ecology_2        0\n",
              "Ecology_3        0\n",
              "Social_1         0\n",
              "Social_2         0\n",
              "Social_3         0\n",
              "Helthcare_2      0\n",
              "Shops_1          0\n",
              "Shops_2          0\n",
              "Price            0\n",
              "dtype: int64"
            ]
          },
          "metadata": {
            "tags": []
          },
          "execution_count": 721
        }
      ]
    },
    {
      "cell_type": "markdown",
      "metadata": {
        "id": "9-ky1_Fn7iw6"
      },
      "source": [
        "### Обработка выбросов"
      ]
    },
    {
      "cell_type": "markdown",
      "metadata": {
        "id": "iirhvkNX9WpO"
      },
      "source": [
        "#### Rooms"
      ]
    },
    {
      "cell_type": "code",
      "metadata": {
        "colab": {
          "base_uri": "https://localhost:8080/"
        },
        "id": "uUuKSqA5_gm7",
        "outputId": "ecb2c6be-3dc9-4146-defe-f60effe6f190"
      },
      "source": [
        "train_df['Rooms'].value_counts()"
      ],
      "execution_count": 722,
      "outputs": [
        {
          "output_type": "execute_result",
          "data": {
            "text/plain": [
              "2.0     3880\n",
              "1.0     3705\n",
              "3.0     2235\n",
              "4.0      150\n",
              "5.0       18\n",
              "0.0        8\n",
              "10.0       2\n",
              "19.0       1\n",
              "6.0        1\n",
              "Name: Rooms, dtype: int64"
            ]
          },
          "metadata": {
            "tags": []
          },
          "execution_count": 722
        }
      ]
    },
    {
      "cell_type": "code",
      "metadata": {
        "id": "uD0xcApf_-zf"
      },
      "source": [
        "train_df.loc[train_df['Rooms'] == 0, 'Rooms'] = 1\n",
        "train_df.loc[train_df['Rooms'] >= 8, 'Rooms'] = train_df['Rooms'].median()"
      ],
      "execution_count": 723,
      "outputs": []
    },
    {
      "cell_type": "code",
      "metadata": {
        "colab": {
          "base_uri": "https://localhost:8080/"
        },
        "id": "NPBrICRDZz_0",
        "outputId": "01a38fc0-1be1-43f6-f2a1-c31ee3efb554"
      },
      "source": [
        "train_df['Rooms'].value_counts()"
      ],
      "execution_count": 724,
      "outputs": [
        {
          "output_type": "execute_result",
          "data": {
            "text/plain": [
              "2.0    3883\n",
              "1.0    3713\n",
              "3.0    2235\n",
              "4.0     150\n",
              "5.0      18\n",
              "6.0       1\n",
              "Name: Rooms, dtype: int64"
            ]
          },
          "metadata": {
            "tags": []
          },
          "execution_count": 724
        }
      ]
    },
    {
      "cell_type": "markdown",
      "metadata": {
        "id": "7jmM707K_O4T"
      },
      "source": [
        "#### Square"
      ]
    },
    {
      "cell_type": "code",
      "metadata": {
        "colab": {
          "base_uri": "https://localhost:8080/",
          "height": 295
        },
        "id": "4QyVUw1JAxlC",
        "outputId": "27794735-d753-4bee-8937-bffdb97a00c2"
      },
      "source": [
        "# Визуальная оценка и определение \"доверительного\" диапазона\n",
        "# train_df['Square'].hist(bins=20)\n",
        "plt.scatter(train_df['Square'], train_df['Id'])\n",
        "plt.ylabel('Id')\n",
        "plt.xlabel('Square')\n",
        "\n",
        "# plt.title('Square')\n",
        "plt.show()"
      ],
      "execution_count": 725,
      "outputs": [
        {
          "output_type": "display_data",
          "data": {
            "image/png": "[encoded data removed]",
            "text/plain": [
              "<Figure size 432x288 with 1 Axes>"
            ]
          },
          "metadata": {
            "tags": []
          }
        }
      ]
    },
    {
      "cell_type": "code",
      "metadata": {
        "id": "tCJb6J6dmlnr"
      },
      "source": [
        "# train_df.loc[train_df['Square'] > train_df['Square'].quantile(.99), 'Square'].sort_values()"
      ],
      "execution_count": 726,
      "outputs": []
    },
    {
      "cell_type": "code",
      "metadata": {
        "colab": {
          "base_uri": "https://localhost:8080/"
        },
        "id": "lLw_JL4MnQYA",
        "outputId": "5b051c37-6dfc-417c-c412-946275d3d876"
      },
      "source": [
        "train_df['Square'].sort_values()"
      ],
      "execution_count": 727,
      "outputs": [
        {
          "output_type": "execute_result",
          "data": {
            "text/plain": [
              "7470      1.136859\n",
              "4496      1.988943\n",
              "9869      2.377248\n",
              "8572      2.596351\n",
              "161       2.954309\n",
              "           ...    \n",
              "7644    212.932361\n",
              "1906    275.645284\n",
              "7010    409.425181\n",
              "726     604.705972\n",
              "9229    641.065193\n",
              "Name: Square, Length: 10000, dtype: float64"
            ]
          },
          "metadata": {
            "tags": []
          },
          "execution_count": 727
        }
      ]
    },
    {
      "cell_type": "code",
      "metadata": {
        "id": "lj5GWmpvoqqp"
      },
      "source": [
        "train_df.loc[train_df['Square'] < 15, 'Square'] = 15\n",
        "train_df.loc[train_df['Square'] > 250, 'Square'] = train_df['Square'].mean()"
      ],
      "execution_count": 728,
      "outputs": []
    },
    {
      "cell_type": "code",
      "metadata": {
        "colab": {
          "base_uri": "https://localhost:8080/"
        },
        "id": "ogbozL4srMtk",
        "outputId": "fd74ee11-5021-427d-acc9-36598be30398"
      },
      "source": [
        "# Проверочный запрос\n",
        "train_df['Square'].sort_values()"
      ],
      "execution_count": 729,
      "outputs": [
        {
          "output_type": "execute_result",
          "data": {
            "text/plain": [
              "7033     15.000000\n",
              "7470     15.000000\n",
              "1401     15.000000\n",
              "161      15.000000\n",
              "4800     15.000000\n",
              "           ...    \n",
              "8011    186.692602\n",
              "1606    190.857689\n",
              "9307    198.930182\n",
              "1776    200.334539\n",
              "7644    212.932361\n",
              "Name: Square, Length: 10000, dtype: float64"
            ]
          },
          "metadata": {
            "tags": []
          },
          "execution_count": 729
        }
      ]
    },
    {
      "cell_type": "markdown",
      "metadata": {
        "id": "nGep6l5hQnJf"
      },
      "source": [
        "#### LifeSquare"
      ]
    },
    {
      "cell_type": "code",
      "metadata": {
        "colab": {
          "base_uri": "https://localhost:8080/",
          "height": 347
        },
        "id": "-iDa-2g9nW93",
        "outputId": "44a40168-dbeb-44cc-dbed-3871ebe2f4e4"
      },
      "source": [
        "# 1. Проверка на корректность: жилая площадь не может быть больше общей площади.\n",
        "train_df.loc[train_df['LifeSquare'] > train_df['Square'], ('LifeSquare', 'Square')].head(10)"
      ],
      "execution_count": 730,
      "outputs": [
        {
          "output_type": "execute_result",
          "data": {
            "text/html": [
              "<div>\n",
              "<style scoped>\n",
              "    .dataframe tbody tr th:only-of-type {\n",
              "        vertical-align: middle;\n",
              "    }\n",
              "\n",
              "    .dataframe tbody tr th {\n",
              "        vertical-align: top;\n",
              "    }\n",
              "\n",
              "    .dataframe thead th {\n",
              "        text-align: right;\n",
              "    }\n",
              "</style>\n",
              "<table border=\"1\" class=\"dataframe\">\n",
              "  <thead>\n",
              "    <tr style=\"text-align: right;\">\n",
              "      <th></th>\n",
              "      <th>LifeSquare</th>\n",
              "      <th>Square</th>\n",
              "    </tr>\n",
              "  </thead>\n",
              "  <tbody>\n",
              "    <tr>\n",
              "      <th>33</th>\n",
              "      <td>74.131261</td>\n",
              "      <td>73.314975</td>\n",
              "    </tr>\n",
              "    <tr>\n",
              "      <th>64</th>\n",
              "      <td>87.730225</td>\n",
              "      <td>87.200625</td>\n",
              "    </tr>\n",
              "    <tr>\n",
              "      <th>77</th>\n",
              "      <td>39.624493</td>\n",
              "      <td>38.467276</td>\n",
              "    </tr>\n",
              "    <tr>\n",
              "      <th>100</th>\n",
              "      <td>82.931595</td>\n",
              "      <td>79.937665</td>\n",
              "    </tr>\n",
              "    <tr>\n",
              "      <th>111</th>\n",
              "      <td>32.514021</td>\n",
              "      <td>28.438794</td>\n",
              "    </tr>\n",
              "    <tr>\n",
              "      <th>142</th>\n",
              "      <td>100.855911</td>\n",
              "      <td>98.649404</td>\n",
              "    </tr>\n",
              "    <tr>\n",
              "      <th>165</th>\n",
              "      <td>47.483236</td>\n",
              "      <td>44.995130</td>\n",
              "    </tr>\n",
              "    <tr>\n",
              "      <th>179</th>\n",
              "      <td>91.796522</td>\n",
              "      <td>90.144106</td>\n",
              "    </tr>\n",
              "    <tr>\n",
              "      <th>213</th>\n",
              "      <td>62.898664</td>\n",
              "      <td>61.735728</td>\n",
              "    </tr>\n",
              "    <tr>\n",
              "      <th>262</th>\n",
              "      <td>64.253870</td>\n",
              "      <td>62.869676</td>\n",
              "    </tr>\n",
              "  </tbody>\n",
              "</table>\n",
              "</div>"
            ],
            "text/plain": [
              "     LifeSquare     Square\n",
              "33    74.131261  73.314975\n",
              "64    87.730225  87.200625\n",
              "77    39.624493  38.467276\n",
              "100   82.931595  79.937665\n",
              "111   32.514021  28.438794\n",
              "142  100.855911  98.649404\n",
              "165   47.483236  44.995130\n",
              "179   91.796522  90.144106\n",
              "213   62.898664  61.735728\n",
              "262   64.253870  62.869676"
            ]
          },
          "metadata": {
            "tags": []
          },
          "execution_count": 730
        }
      ]
    },
    {
      "cell_type": "code",
      "metadata": {
        "id": "Qo8ayQyYou-s"
      },
      "source": [
        "train_df.loc[train_df['LifeSquare'] > train_df['Square'], 'LifeSquare'] = train_df['Square']\n",
        "# condition = (train_df['LifeSquare'] < 15) | (train_df['LifeSquare'] > 250) \\\n",
        "# | train_df.loc[train_df['LifeSquare'] > train_df['Square']"
      ],
      "execution_count": 731,
      "outputs": []
    },
    {
      "cell_type": "code",
      "metadata": {
        "colab": {
          "base_uri": "https://localhost:8080/",
          "height": 295
        },
        "id": "QdoCYhp7RJ3L",
        "outputId": "2580deda-522d-4376-d48c-4d2eaa5786d3"
      },
      "source": [
        "# 2. Визуальная оценка и определение \"доверительного\" диапазона\n",
        "# train_df['LifeSquare'].hist(bins=20)\n",
        "plt.scatter(train_df['LifeSquare'], train_df['Id'])\n",
        "plt.ylabel('Id')\n",
        "plt.xlabel('LifeSquare')\n",
        "\n",
        "# plt.title('LifeSquare')\n",
        "plt.show()"
      ],
      "execution_count": 732,
      "outputs": [
        {
          "output_type": "display_data",
          "data": {
            "image/png": "[encoded data removed]",
            "text/plain": [
              "<Figure size 432x288 with 1 Axes>"
            ]
          },
          "metadata": {
            "tags": []
          }
        }
      ]
    },
    {
      "cell_type": "code",
      "metadata": {
        "colab": {
          "base_uri": "https://localhost:8080/"
        },
        "id": "XhRsdx11mvhJ",
        "outputId": "087a572b-be8b-43f7-e4a6-67832c19c582"
      },
      "source": [
        "train_df['LifeSquare'].sort_values()"
      ],
      "execution_count": 733,
      "outputs": [
        {
          "output_type": "execute_result",
          "data": {
            "text/plain": [
              "682      -0.140758\n",
              "3113      0.370619\n",
              "1829      0.641822\n",
              "119       0.795539\n",
              "9869      0.873147\n",
              "           ...    \n",
              "5258    167.016872\n",
              "8872    169.509941\n",
              "5283    174.649522\n",
              "1776    200.334539\n",
              "7644    211.231125\n",
              "Name: LifeSquare, Length: 10000, dtype: float64"
            ]
          },
          "metadata": {
            "tags": []
          },
          "execution_count": 733
        }
      ]
    },
    {
      "cell_type": "code",
      "metadata": {
        "id": "7QAp68Zzk4Uk"
      },
      "source": [
        "# train_df.loc[train_df['LifeSquare'] > train_df['LifeSquare'].quantile(.999), 'LifeSquare'].head(10)"
      ],
      "execution_count": 734,
      "outputs": []
    },
    {
      "cell_type": "code",
      "metadata": {
        "id": "XGRoRY8foD5q"
      },
      "source": [
        "train_df.loc[train_df['LifeSquare'] < 15, 'LifeSquare'] = 15\n",
        "train_df.loc[train_df['LifeSquare'] > 250, 'LifeSquare'] = train_df['LifeSquare'].mean()"
      ],
      "execution_count": 735,
      "outputs": []
    },
    {
      "cell_type": "markdown",
      "metadata": {
        "id": "hBVQhX4R-AoM"
      },
      "source": [
        "#### KitchenSquare"
      ]
    },
    {
      "cell_type": "code",
      "metadata": {
        "colab": {
          "base_uri": "https://localhost:8080/"
        },
        "id": "686WbLaZJme0",
        "outputId": "eede95ef-7919-4e19-a63c-d5aceacb94b0"
      },
      "source": [
        "train_df['KitchenSquare'].sort_values()"
      ],
      "execution_count": 736,
      "outputs": [
        {
          "output_type": "execute_result",
          "data": {
            "text/plain": [
              "2178       0.0\n",
              "5612       0.0\n",
              "519        0.0\n",
              "8814       0.0\n",
              "3709       0.0\n",
              "         ...  \n",
              "7733     112.0\n",
              "5002     112.0\n",
              "286      123.0\n",
              "6505    1970.0\n",
              "9520    2014.0\n",
              "Name: KitchenSquare, Length: 10000, dtype: float64"
            ]
          },
          "metadata": {
            "tags": []
          },
          "execution_count": 736
        }
      ]
    },
    {
      "cell_type": "code",
      "metadata": {
        "colab": {
          "base_uri": "https://localhost:8080/",
          "height": 167
        },
        "id": "yi8_zG9gEZ4d",
        "outputId": "71fab5ed-e91f-434e-c1b4-758b505dfaaa"
      },
      "source": [
        "# 1. Проверка на корректность: площадь кухни не может быть больше общей площади.\n",
        "train_df.loc[train_df['KitchenSquare'] > train_df['Square'], ('KitchenSquare', 'Square')].head()"
      ],
      "execution_count": 737,
      "outputs": [
        {
          "output_type": "execute_result",
          "data": {
            "text/html": [
              "<div>\n",
              "<style scoped>\n",
              "    .dataframe tbody tr th:only-of-type {\n",
              "        vertical-align: middle;\n",
              "    }\n",
              "\n",
              "    .dataframe tbody tr th {\n",
              "        vertical-align: top;\n",
              "    }\n",
              "\n",
              "    .dataframe thead th {\n",
              "        text-align: right;\n",
              "    }\n",
              "</style>\n",
              "<table border=\"1\" class=\"dataframe\">\n",
              "  <thead>\n",
              "    <tr style=\"text-align: right;\">\n",
              "      <th></th>\n",
              "      <th>KitchenSquare</th>\n",
              "      <th>Square</th>\n",
              "    </tr>\n",
              "  </thead>\n",
              "  <tbody>\n",
              "    <tr>\n",
              "      <th>2785</th>\n",
              "      <td>84.0</td>\n",
              "      <td>38.220258</td>\n",
              "    </tr>\n",
              "    <tr>\n",
              "      <th>5273</th>\n",
              "      <td>73.0</td>\n",
              "      <td>38.071692</td>\n",
              "    </tr>\n",
              "    <tr>\n",
              "      <th>6505</th>\n",
              "      <td>1970.0</td>\n",
              "      <td>32.276663</td>\n",
              "    </tr>\n",
              "    <tr>\n",
              "      <th>9520</th>\n",
              "      <td>2014.0</td>\n",
              "      <td>47.100719</td>\n",
              "    </tr>\n",
              "  </tbody>\n",
              "</table>\n",
              "</div>"
            ],
            "text/plain": [
              "      KitchenSquare     Square\n",
              "2785           84.0  38.220258\n",
              "5273           73.0  38.071692\n",
              "6505         1970.0  32.276663\n",
              "9520         2014.0  47.100719"
            ]
          },
          "metadata": {
            "tags": []
          },
          "execution_count": 737
        }
      ]
    },
    {
      "cell_type": "code",
      "metadata": {
        "id": "KvJQYrqAFvsg"
      },
      "source": [
        "# Для данного расчета необходимо заполнить пропуски по LifeSquare\n",
        "train_df.loc[train_df['KitchenSquare'] > train_df['Square'], 'KitchenSquare'] = train_df['Square'] \\\n",
        "                                            - train_df['LifeSquare']"
      ],
      "execution_count": 738,
      "outputs": []
    },
    {
      "cell_type": "code",
      "metadata": {
        "colab": {
          "base_uri": "https://localhost:8080/",
          "height": 295
        },
        "id": "nppARbg8DrJw",
        "outputId": "8232311a-b2cd-438b-d8d5-fb858c2fffa1"
      },
      "source": [
        "# 2. Визуальная оценка и определение \"доверительного\" диапазона\n",
        "# train_df['KitchenSquare'].hist(bins=20)\n",
        "plt.scatter(train_df['KitchenSquare'], train_df['Id'])\n",
        "plt.ylabel('Id')\n",
        "plt.xlabel('KitchenSquare')\n",
        "\n",
        "# plt.title('KitchenSquare')\n",
        "plt.show()"
      ],
      "execution_count": 739,
      "outputs": [
        {
          "output_type": "display_data",
          "data": {
            "image/png": "[encoded data removed]",
            "text/plain": [
              "<Figure size 432x288 with 1 Axes>"
            ]
          },
          "metadata": {
            "tags": []
          }
        }
      ]
    },
    {
      "cell_type": "code",
      "metadata": {
        "colab": {
          "base_uri": "https://localhost:8080/"
        },
        "id": "1aGnMcLOZ-6L",
        "outputId": "213c3e2e-87af-49ed-f31b-6f5b3ca0d1b1"
      },
      "source": [
        "train_df['KitchenSquare'].value_counts().sort_index()"
      ],
      "execution_count": 740,
      "outputs": [
        {
          "output_type": "execute_result",
          "data": {
            "text/plain": [
              "0.000000       697\n",
              "0.652759         1\n",
              "1.000000      2460\n",
              "2.000000         4\n",
              "3.000000        22\n",
              "4.000000        39\n",
              "5.000000      1169\n",
              "6.000000      1038\n",
              "7.000000       609\n",
              "8.000000      1306\n",
              "9.000000       843\n",
              "10.000000     1075\n",
              "11.000000      233\n",
              "12.000000      249\n",
              "12.998269        1\n",
              "13.000000       67\n",
              "14.000000       51\n",
              "15.000000       31\n",
              "16.000000       16\n",
              "17.000000       12\n",
              "18.000000        6\n",
              "18.348144        1\n",
              "19.000000       11\n",
              "19.503403        1\n",
              "20.000000       14\n",
              "21.000000        1\n",
              "22.000000        3\n",
              "23.000000        1\n",
              "25.000000        2\n",
              "26.000000        1\n",
              "27.000000        1\n",
              "29.000000        1\n",
              "30.000000        2\n",
              "31.000000        1\n",
              "32.000000        2\n",
              "35.000000        1\n",
              "36.000000        1\n",
              "37.000000        2\n",
              "39.000000        1\n",
              "40.000000        1\n",
              "41.000000        2\n",
              "42.000000        1\n",
              "43.000000        2\n",
              "48.000000        1\n",
              "51.000000        2\n",
              "53.000000        1\n",
              "54.000000        1\n",
              "58.000000        2\n",
              "60.000000        1\n",
              "62.000000        1\n",
              "63.000000        1\n",
              "66.000000        1\n",
              "72.000000        1\n",
              "75.000000        1\n",
              "78.000000        1\n",
              "96.000000        1\n",
              "112.000000       2\n",
              "123.000000       1\n",
              "Name: KitchenSquare, dtype: int64"
            ]
          },
          "metadata": {
            "tags": []
          },
          "execution_count": 740
        }
      ]
    },
    {
      "cell_type": "code",
      "metadata": {
        "id": "DxkTPWlNaLBO"
      },
      "source": [
        "train_df.loc[train_df['KitchenSquare'] < 3, 'KitchenSquare'] = 3\n",
        "train_df.loc[train_df['KitchenSquare'] > 70, 'KitchenSquare'] = train_df['KitchenSquare'].median()"
      ],
      "execution_count": 741,
      "outputs": []
    },
    {
      "cell_type": "markdown",
      "metadata": {
        "id": "2RgmBzpkJOFp"
      },
      "source": [
        "#### HouseFloor"
      ]
    },
    {
      "cell_type": "code",
      "metadata": {
        "id": "bCa-UKBbgDK4",
        "colab": {
          "base_uri": "https://localhost:8080/",
          "height": 197
        },
        "outputId": "574357b2-9ba4-4897-dd27-a8104055ddec"
      },
      "source": [
        "# 1. Проверка на корректность: этаж квартиры не может быть больше количества этажей в доме.\n",
        "train_df.loc[train_df['Floor'] > train_df['HouseFloor'], ('Floor', 'HouseFloor')].head()"
      ],
      "execution_count": 742,
      "outputs": [
        {
          "output_type": "execute_result",
          "data": {
            "text/html": [
              "<div>\n",
              "<style scoped>\n",
              "    .dataframe tbody tr th:only-of-type {\n",
              "        vertical-align: middle;\n",
              "    }\n",
              "\n",
              "    .dataframe tbody tr th {\n",
              "        vertical-align: top;\n",
              "    }\n",
              "\n",
              "    .dataframe thead th {\n",
              "        text-align: right;\n",
              "    }\n",
              "</style>\n",
              "<table border=\"1\" class=\"dataframe\">\n",
              "  <thead>\n",
              "    <tr style=\"text-align: right;\">\n",
              "      <th></th>\n",
              "      <th>Floor</th>\n",
              "      <th>HouseFloor</th>\n",
              "    </tr>\n",
              "  </thead>\n",
              "  <tbody>\n",
              "    <tr>\n",
              "      <th>17</th>\n",
              "      <td>6</td>\n",
              "      <td>5.0</td>\n",
              "    </tr>\n",
              "    <tr>\n",
              "      <th>19</th>\n",
              "      <td>16</td>\n",
              "      <td>14.0</td>\n",
              "    </tr>\n",
              "    <tr>\n",
              "      <th>21</th>\n",
              "      <td>11</td>\n",
              "      <td>9.0</td>\n",
              "    </tr>\n",
              "    <tr>\n",
              "      <th>24</th>\n",
              "      <td>2</td>\n",
              "      <td>0.0</td>\n",
              "    </tr>\n",
              "    <tr>\n",
              "      <th>25</th>\n",
              "      <td>18</td>\n",
              "      <td>1.0</td>\n",
              "    </tr>\n",
              "  </tbody>\n",
              "</table>\n",
              "</div>"
            ],
            "text/plain": [
              "    Floor  HouseFloor\n",
              "17      6         5.0\n",
              "19     16        14.0\n",
              "21     11         9.0\n",
              "24      2         0.0\n",
              "25     18         1.0"
            ]
          },
          "metadata": {
            "tags": []
          },
          "execution_count": 742
        }
      ]
    },
    {
      "cell_type": "code",
      "metadata": {
        "id": "MwUGDAmsM8DW"
      },
      "source": [
        "train_df.loc[train_df['Floor'] > train_df['HouseFloor'], 'Floor'] = train_df['HouseFloor']"
      ],
      "execution_count": 743,
      "outputs": []
    },
    {
      "cell_type": "code",
      "metadata": {
        "colab": {
          "base_uri": "https://localhost:8080/",
          "height": 295
        },
        "id": "l-pcn6odMvGp",
        "outputId": "71790f71-8ca2-4121-f325-b37715032bb4"
      },
      "source": [
        "# 2. Визуальная оценка и определение \"доверительного\" диапазона\n",
        "# train_df['HouseFloor].hist(bins=20)\n",
        "plt.scatter(train_df['HouseFloor'], train_df['Id'])\n",
        "plt.ylabel('Id')\n",
        "plt.xlabel('HouseFloor')\n",
        "\n",
        "# plt.title('HouseFloor')\n",
        "plt.show()"
      ],
      "execution_count": 744,
      "outputs": [
        {
          "output_type": "display_data",
          "data": {
            "image/png": "[encoded data removed]",
            "text/plain": [
              "<Figure size 432x288 with 1 Axes>"
            ]
          },
          "metadata": {
            "tags": []
          }
        }
      ]
    },
    {
      "cell_type": "code",
      "metadata": {
        "colab": {
          "base_uri": "https://localhost:8080/"
        },
        "id": "7cmihbMWtIh3",
        "outputId": "a8e06f39-0b29-4213-f180-827b6ac3f8f7"
      },
      "source": [
        "train_df['HouseFloor'].value_counts().sort_index()"
      ],
      "execution_count": 745,
      "outputs": [
        {
          "output_type": "execute_result",
          "data": {
            "text/plain": [
              "0.0       269\n",
              "1.0       497\n",
              "2.0        48\n",
              "3.0       127\n",
              "4.0       134\n",
              "5.0      1031\n",
              "6.0        58\n",
              "7.0        59\n",
              "8.0       141\n",
              "9.0      1389\n",
              "10.0      135\n",
              "11.0       28\n",
              "12.0     1074\n",
              "13.0       27\n",
              "14.0      625\n",
              "15.0      123\n",
              "16.0      576\n",
              "17.0     2331\n",
              "18.0       89\n",
              "19.0      108\n",
              "20.0      105\n",
              "21.0       33\n",
              "22.0      343\n",
              "23.0       40\n",
              "24.0      176\n",
              "25.0      374\n",
              "26.0        1\n",
              "27.0        6\n",
              "28.0        3\n",
              "29.0        1\n",
              "30.0       21\n",
              "31.0        1\n",
              "32.0        4\n",
              "36.0        1\n",
              "37.0        4\n",
              "38.0        1\n",
              "39.0        2\n",
              "40.0        7\n",
              "44.0        1\n",
              "45.0        1\n",
              "47.0        1\n",
              "48.0        2\n",
              "99.0        2\n",
              "117.0       1\n",
              "Name: HouseFloor, dtype: int64"
            ]
          },
          "metadata": {
            "tags": []
          },
          "execution_count": 745
        }
      ]
    },
    {
      "cell_type": "code",
      "metadata": {
        "id": "FsFvrcyJueYr"
      },
      "source": [
        "train_df.loc[train_df['HouseFloor'] == 0, 'HouseFloor'] = 1\n",
        "train_df.loc[train_df['HouseFloor'] > 50, 'HouseFloor'] = train_df['HouseFloor'].median()"
      ],
      "execution_count": 746,
      "outputs": []
    },
    {
      "cell_type": "markdown",
      "metadata": {
        "id": "IO2CIYLH9eLc"
      },
      "source": [
        "#### HouseYear"
      ]
    },
    {
      "cell_type": "code",
      "metadata": {
        "colab": {
          "base_uri": "https://localhost:8080/"
        },
        "id": "Dzd89O3GQoF4",
        "outputId": "4f97be52-0689-412a-bb24-9042e10d26fb"
      },
      "source": [
        "train_df['HouseYear'].sort_values(ascending=False)"
      ],
      "execution_count": 747,
      "outputs": [
        {
          "output_type": "execute_result",
          "data": {
            "text/plain": [
              "9163    20052011\n",
              "8828        4968\n",
              "7246        2020\n",
              "2350        2020\n",
              "8296        2020\n",
              "          ...   \n",
              "7610        1916\n",
              "6250        1914\n",
              "2066        1912\n",
              "2795        1912\n",
              "6794        1910\n",
              "Name: HouseYear, Length: 10000, dtype: int64"
            ]
          },
          "metadata": {
            "tags": []
          },
          "execution_count": 747
        }
      ]
    },
    {
      "cell_type": "code",
      "metadata": {
        "id": "-LG3RW6_UdZF"
      },
      "source": [
        "train_df.loc[train_df['HouseYear'] == 4968, 'HouseYear'] = 1968\n",
        "train_df.loc[train_df['HouseYear'] == 20052011, 'HouseYear'] = 2011"
      ],
      "execution_count": 748,
      "outputs": []
    },
    {
      "cell_type": "code",
      "metadata": {
        "id": "WI07ETC9QvCl"
      },
      "source": [
        "train_df.loc[train_df['HouseYear'] > 2020, 'HouseYear'] = 2020"
      ],
      "execution_count": 749,
      "outputs": []
    },
    {
      "cell_type": "markdown",
      "metadata": {
        "id": "muqwy1Z2YSnT"
      },
      "source": [
        "#### class DataPreprocessing"
      ]
    },
    {
      "cell_type": "code",
      "metadata": {
        "id": "PzaDvNUeRxC2"
      },
      "source": [
        "class DataPreprocessing:\n",
        "    \"\"\"Подготовка исходных данных\"\"\"\n",
        "\n",
        "    def __init__(self):\n",
        "        \"\"\"Параметры класса\"\"\"\n",
        "        self.medians=None\n",
        "        self.means=None\n",
        "        # self.kitchen_square_quantile = None\n",
        "        \n",
        "    def fit(self, X):\n",
        "        \"\"\"Сохранение статистик\"\"\"       \n",
        "        # Расчет медиан\n",
        "        self.medians = X.median()\n",
        "        self.means = X.mean()\n",
        "        # self.kitchen_square_quantile = X['KitchenSquare'].quantile(.975)\n",
        "    \n",
        "    def transform(self, X):\n",
        "        \"\"\"Трансформация данных\"\"\"\n",
        "\n",
        "        # Rooms\n",
        "        X.loc[X['Rooms'] == 0, 'Rooms'] = 1\n",
        "        X.loc[X['Rooms'] >= 8, 'Rooms'] = self.medians['Rooms']\n",
        "\n",
        "        # Square\n",
        "        X.loc[X['Square'] < 15, 'Square'] = 15\n",
        "        X.loc[X['Square'] > 250, 'Square'] = self.means['Square']\n",
        "\n",
        "        # LifeSquare\n",
        "\n",
        "        X.loc[X['LifeSquare'].isna(), 'LifeSquare'] = X['Square'] - X['KitchenSquare'] - 3\n",
        "\n",
        "        X.loc[X['LifeSquare'] > X['Square'], 'LifeSquare'] = X_train['Square']\n",
        "        X.loc[X['LifeSquare'] < 15, 'LifeSquare'] = 15\n",
        "        X.loc[X['LifeSquare'] > 250, 'LifeSquare'] = self.means['LifeSquare']\n",
        "\n",
        "        # KitchenSquare\n",
        "        X.loc[X['KitchenSquare'] > X['Square'], 'KitchenSquare'] = X['Square'] - X['LifeSquare']\n",
        "        X.loc[X['KitchenSquare'] < 3, 'KitchenSquare'] = 3\n",
        "        X.loc[X['KitchenSquare'] > 70, 'KitchenSquare'] = self.medians['KitchenSquare']\n",
        "\n",
        "        # HouseFloor\n",
        "        X.loc[X['Floor'] > X['HouseFloor'], 'Floor'] = X['HouseFloor']\n",
        "        X.loc[X['HouseFloor'] == 0, 'HouseFloor'] = 1\n",
        "        X.loc[X['HouseFloor'] > 50, 'HouseFloor'] = self.medians['HouseFloor']\n",
        "\n",
        "        # HouseYear\n",
        "\n",
        "        current_year = datetime.now().year\n",
        "\n",
        "        X.loc[X['HouseYear'] > current_year, 'HouseYear'] = current_year\n",
        "\n",
        "        # Healthcare_1\n",
        "        if 'Healthcare_1' in X.columns:\n",
        "            X.drop('Healthcare_1', axis=1, inplace=True)\n",
        "        \n",
        "        \n",
        "        X.fillna(self.medians, inplace=True)\n",
        "        \n",
        "        return X"
      ],
      "execution_count": 750,
      "outputs": []
    },
    {
      "cell_type": "markdown",
      "metadata": {
        "id": "V_yxy9pr125w"
      },
      "source": [
        "### Построение новых признаков"
      ]
    },
    {
      "cell_type": "markdown",
      "metadata": {
        "id": "7kxYOaoYXiD8"
      },
      "source": [
        "#### Ecology_2, Ecology_3, Shops_2"
      ]
    },
    {
      "cell_type": "code",
      "metadata": {
        "id": "kFDwBR-qKGMC"
      },
      "source": [
        "binary_to_numbers = {'A': 0, 'B': 1}\n",
        "\n",
        "train_df['Ecology_2'] = train_df['Ecology_2'].replace(binary_to_numbers)\n",
        "train_df['Ecology_3'] = train_df['Ecology_3'].replace(binary_to_numbers)\n",
        "train_df['Shops_2'] = train_df['Shops_2'].replace(binary_to_numbers)"
      ],
      "execution_count": 751,
      "outputs": []
    },
    {
      "cell_type": "code",
      "metadata": {
        "id": "ix1Gce4EWohf"
      },
      "source": [
        "train_df['Id'] = train_df['Id'].astype('object')\n",
        "train_df['DistrictId'] = train_df['DistrictId'].astype('object')\n",
        "\n",
        "train_df['Ecology_2'] = train_df['Ecology_2'].astype('category')\n",
        "train_df['Ecology_3'] = train_df['Ecology_3'].astype('category')\n",
        "train_df['Shops_2'] = train_df['Shops_2'].astype('category')"
      ],
      "execution_count": 752,
      "outputs": []
    },
    {
      "cell_type": "markdown",
      "metadata": {
        "id": "7m1oQHb6XuLI"
      },
      "source": [
        "#### Social_1 & Social_2"
      ]
    },
    {
      "cell_type": "code",
      "metadata": {
        "colab": {
          "base_uri": "https://localhost:8080/",
          "height": 543
        },
        "id": "Mw3YERCZhU-v",
        "outputId": "c4005475-9e28-445c-f742-3fea314d9b94"
      },
      "source": [
        "grid = sns.jointplot(train_df['Social_1'], train_df['Social_2'], kind='reg')\n",
        "grid.fig.set_figwidth(8)\n",
        "grid.fig.set_figheight(8)\n",
        "\n",
        "plt.show()"
      ],
      "execution_count": 753,
      "outputs": [
        {
          "output_type": "display_data",
          "data": {
            "image/png": "[encoded data removed]",
            "text/plain": [
              "<Figure size 576x576 with 3 Axes>"
            ]
          },
          "metadata": {
            "tags": []
          }
        }
      ]
    },
    {
      "cell_type": "code",
      "metadata": {
        "colab": {
          "base_uri": "https://localhost:8080/"
        },
        "id": "4CrLtRe0V1yu",
        "outputId": "7b01a33e-9eb6-4472-cca5-b51c919fde15"
      },
      "source": [
        "train_df_pca = train_df[['Social_1', 'Social_2']]\n",
        "pca = PCA(n_components=1,  random_state=42)\n",
        "\n",
        "train_df['Social_PCA'] = pca.fit_transform(train_df_pca)\n",
        "\n",
        "train_df['Social_PCA'].head()"
      ],
      "execution_count": 754,
      "outputs": [
        {
          "output_type": "execute_result",
          "data": {
            "text/plain": [
              "0   -2255.194923\n",
              "1     854.857346\n",
              "2     -91.121828\n",
              "3   -5088.211968\n",
              "4    3314.848372\n",
              "Name: Social_PCA, dtype: float64"
            ]
          },
          "metadata": {
            "tags": []
          },
          "execution_count": 754
        }
      ]
    },
    {
      "cell_type": "markdown",
      "metadata": {
        "id": "HNvfSzxzKVdm"
      },
      "source": [
        "#### Low_rise"
      ]
    },
    {
      "cell_type": "code",
      "metadata": {
        "id": "W0bkFPCzKUxl"
      },
      "source": [
        "train_df['Low_rise'] = 0\n",
        "train_df.loc[train_df['HouseFloor'] < 3, 'Low_rise'] = 1"
      ],
      "execution_count": 755,
      "outputs": []
    },
    {
      "cell_type": "code",
      "metadata": {
        "id": "Mx-wyEZHLlKe"
      },
      "source": [
        "train_df['Low_rise'] = train_df['Low_rise'].astype('category')"
      ],
      "execution_count": 756,
      "outputs": []
    },
    {
      "cell_type": "markdown",
      "metadata": {
        "id": "4raCPNy7F8fG"
      },
      "source": [
        "#### Last floor"
      ]
    },
    {
      "cell_type": "code",
      "metadata": {
        "id": "9LDKTWZ3F_WF"
      },
      "source": [
        "train_df['last_floor'] = 0\n",
        "train_df.loc[(train_df['HouseFloor'] > 17) & (train_df['Floor'] == train_df['HouseFloor']), 'last_floor'] = 1"
      ],
      "execution_count": 757,
      "outputs": []
    },
    {
      "cell_type": "code",
      "metadata": {
        "colab": {
          "base_uri": "https://localhost:8080/",
          "height": 107
        },
        "id": "0cyrm1WmGUhb",
        "outputId": "528d224a-90a7-4495-97b3-30de88ca065f"
      },
      "source": [
        "med_price_by_last_floor = train_df.groupby(['last_floor'], as_index=False).agg({'Price':'median'})\n",
        "med_price_by_last_floor"
      ],
      "execution_count": 758,
      "outputs": [
        {
          "output_type": "execute_result",
          "data": {
            "text/html": [
              "<div>\n",
              "<style scoped>\n",
              "    .dataframe tbody tr th:only-of-type {\n",
              "        vertical-align: middle;\n",
              "    }\n",
              "\n",
              "    .dataframe tbody tr th {\n",
              "        vertical-align: top;\n",
              "    }\n",
              "\n",
              "    .dataframe thead th {\n",
              "        text-align: right;\n",
              "    }\n",
              "</style>\n",
              "<table border=\"1\" class=\"dataframe\">\n",
              "  <thead>\n",
              "    <tr style=\"text-align: right;\">\n",
              "      <th></th>\n",
              "      <th>last_floor</th>\n",
              "      <th>Price</th>\n",
              "    </tr>\n",
              "  </thead>\n",
              "  <tbody>\n",
              "    <tr>\n",
              "      <th>0</th>\n",
              "      <td>0</td>\n",
              "      <td>191936.643369</td>\n",
              "    </tr>\n",
              "    <tr>\n",
              "      <th>1</th>\n",
              "      <td>1</td>\n",
              "      <td>251294.166444</td>\n",
              "    </tr>\n",
              "  </tbody>\n",
              "</table>\n",
              "</div>"
            ],
            "text/plain": [
              "   last_floor          Price\n",
              "0           0  191936.643369\n",
              "1           1  251294.166444"
            ]
          },
          "metadata": {
            "tags": []
          },
          "execution_count": 758
        }
      ]
    },
    {
      "cell_type": "markdown",
      "metadata": {
        "id": "bpTKTGwEB9dW"
      },
      "source": [
        "#### HouseYear category"
      ]
    },
    {
      "cell_type": "code",
      "metadata": {
        "id": "eLGIlfAqB9wu"
      },
      "source": [
        "def year_to_cat(X):\n",
        "\n",
        "    X['year_cat'] = 0\n",
        "\n",
        "    X.loc[X['HouseYear'] <= 1945, 'year_cat'] = 1\n",
        "    X.loc[(X['HouseYear'] > 1945) & (X['HouseYear'] <= 1980), 'year_cat'] = 2\n",
        "    X.loc[(X['HouseYear'] > 1980) & (X['HouseYear'] <= 2000), 'year_cat'] = 3\n",
        "    X.loc[(X['HouseYear'] > 2000) & (X['HouseYear'] <= 2017), 'year_cat'] = 4\n",
        "    X.loc[(X['HouseYear'] > 2017), 'year_cat'] = 5\n",
        "\n",
        "    X['year_cat'] = X['year_cat'].astype('category')\n",
        "\n",
        "    return X"
      ],
      "execution_count": 759,
      "outputs": []
    },
    {
      "cell_type": "code",
      "metadata": {
        "colab": {
          "base_uri": "https://localhost:8080/",
          "height": 217
        },
        "id": "BsKSsFCnCPdf",
        "outputId": "4cdf9f65-3cad-4d8a-efe9-e6f77f2eade6"
      },
      "source": [
        "train_df = year_to_cat(train_df)\n",
        "train_df.head()"
      ],
      "execution_count": 760,
      "outputs": [
        {
          "output_type": "execute_result",
          "data": {
            "text/html": [
              "<div>\n",
              "<style scoped>\n",
              "    .dataframe tbody tr th:only-of-type {\n",
              "        vertical-align: middle;\n",
              "    }\n",
              "\n",
              "    .dataframe tbody tr th {\n",
              "        vertical-align: top;\n",
              "    }\n",
              "\n",
              "    .dataframe thead th {\n",
              "        text-align: right;\n",
              "    }\n",
              "</style>\n",
              "<table border=\"1\" class=\"dataframe\">\n",
              "  <thead>\n",
              "    <tr style=\"text-align: right;\">\n",
              "      <th></th>\n",
              "      <th>Id</th>\n",
              "      <th>DistrictId</th>\n",
              "      <th>Rooms</th>\n",
              "      <th>Square</th>\n",
              "      <th>LifeSquare</th>\n",
              "      <th>KitchenSquare</th>\n",
              "      <th>Floor</th>\n",
              "      <th>HouseFloor</th>\n",
              "      <th>HouseYear</th>\n",
              "      <th>Ecology_1</th>\n",
              "      <th>Ecology_2</th>\n",
              "      <th>Ecology_3</th>\n",
              "      <th>Social_1</th>\n",
              "      <th>Social_2</th>\n",
              "      <th>Social_3</th>\n",
              "      <th>Helthcare_2</th>\n",
              "      <th>Shops_1</th>\n",
              "      <th>Shops_2</th>\n",
              "      <th>Price</th>\n",
              "      <th>Social_PCA</th>\n",
              "      <th>Low_rise</th>\n",
              "      <th>last_floor</th>\n",
              "      <th>year_cat</th>\n",
              "    </tr>\n",
              "  </thead>\n",
              "  <tbody>\n",
              "    <tr>\n",
              "      <th>0</th>\n",
              "      <td>11809</td>\n",
              "      <td>27</td>\n",
              "      <td>3.0</td>\n",
              "      <td>115.027311</td>\n",
              "      <td>102.027311</td>\n",
              "      <td>10.0</td>\n",
              "      <td>4.0</td>\n",
              "      <td>10.0</td>\n",
              "      <td>2014</td>\n",
              "      <td>0.075424</td>\n",
              "      <td>1</td>\n",
              "      <td>1</td>\n",
              "      <td>11</td>\n",
              "      <td>3097</td>\n",
              "      <td>0</td>\n",
              "      <td>0</td>\n",
              "      <td>0</td>\n",
              "      <td>1</td>\n",
              "      <td>305018.871089</td>\n",
              "      <td>-2255.194923</td>\n",
              "      <td>0</td>\n",
              "      <td>0</td>\n",
              "      <td>4</td>\n",
              "    </tr>\n",
              "    <tr>\n",
              "      <th>1</th>\n",
              "      <td>3013</td>\n",
              "      <td>22</td>\n",
              "      <td>1.0</td>\n",
              "      <td>39.832524</td>\n",
              "      <td>23.169223</td>\n",
              "      <td>8.0</td>\n",
              "      <td>7.0</td>\n",
              "      <td>8.0</td>\n",
              "      <td>1966</td>\n",
              "      <td>0.118537</td>\n",
              "      <td>1</td>\n",
              "      <td>1</td>\n",
              "      <td>30</td>\n",
              "      <td>6207</td>\n",
              "      <td>1</td>\n",
              "      <td>1</td>\n",
              "      <td>0</td>\n",
              "      <td>1</td>\n",
              "      <td>177734.553407</td>\n",
              "      <td>854.857346</td>\n",
              "      <td>0</td>\n",
              "      <td>0</td>\n",
              "      <td>2</td>\n",
              "    </tr>\n",
              "    <tr>\n",
              "      <th>2</th>\n",
              "      <td>8215</td>\n",
              "      <td>1</td>\n",
              "      <td>3.0</td>\n",
              "      <td>78.342215</td>\n",
              "      <td>47.671972</td>\n",
              "      <td>10.0</td>\n",
              "      <td>2.0</td>\n",
              "      <td>17.0</td>\n",
              "      <td>1988</td>\n",
              "      <td>0.025609</td>\n",
              "      <td>1</td>\n",
              "      <td>1</td>\n",
              "      <td>33</td>\n",
              "      <td>5261</td>\n",
              "      <td>0</td>\n",
              "      <td>3</td>\n",
              "      <td>1</td>\n",
              "      <td>1</td>\n",
              "      <td>282078.720850</td>\n",
              "      <td>-91.121828</td>\n",
              "      <td>0</td>\n",
              "      <td>0</td>\n",
              "      <td>3</td>\n",
              "    </tr>\n",
              "    <tr>\n",
              "      <th>3</th>\n",
              "      <td>2352</td>\n",
              "      <td>1</td>\n",
              "      <td>1.0</td>\n",
              "      <td>40.409907</td>\n",
              "      <td>36.409907</td>\n",
              "      <td>3.0</td>\n",
              "      <td>10.0</td>\n",
              "      <td>22.0</td>\n",
              "      <td>1977</td>\n",
              "      <td>0.007122</td>\n",
              "      <td>1</td>\n",
              "      <td>1</td>\n",
              "      <td>1</td>\n",
              "      <td>264</td>\n",
              "      <td>0</td>\n",
              "      <td>0</td>\n",
              "      <td>1</td>\n",
              "      <td>1</td>\n",
              "      <td>168106.007630</td>\n",
              "      <td>-5088.211968</td>\n",
              "      <td>0</td>\n",
              "      <td>0</td>\n",
              "      <td>2</td>\n",
              "    </tr>\n",
              "    <tr>\n",
              "      <th>4</th>\n",
              "      <td>13866</td>\n",
              "      <td>94</td>\n",
              "      <td>2.0</td>\n",
              "      <td>64.285067</td>\n",
              "      <td>38.562517</td>\n",
              "      <td>9.0</td>\n",
              "      <td>16.0</td>\n",
              "      <td>16.0</td>\n",
              "      <td>1972</td>\n",
              "      <td>0.282798</td>\n",
              "      <td>1</td>\n",
              "      <td>1</td>\n",
              "      <td>33</td>\n",
              "      <td>8667</td>\n",
              "      <td>2</td>\n",
              "      <td>0</td>\n",
              "      <td>6</td>\n",
              "      <td>1</td>\n",
              "      <td>343995.102962</td>\n",
              "      <td>3314.848372</td>\n",
              "      <td>0</td>\n",
              "      <td>0</td>\n",
              "      <td>2</td>\n",
              "    </tr>\n",
              "  </tbody>\n",
              "</table>\n",
              "</div>"
            ],
            "text/plain": [
              "      Id DistrictId  Rooms  ...  Low_rise  last_floor  year_cat\n",
              "0  11809         27    3.0  ...         0           0         4\n",
              "1   3013         22    1.0  ...         0           0         2\n",
              "2   8215          1    3.0  ...         0           0         3\n",
              "3   2352          1    1.0  ...         0           0         2\n",
              "4  13866         94    2.0  ...         0           0         2\n",
              "\n",
              "[5 rows x 23 columns]"
            ]
          },
          "metadata": {
            "tags": []
          },
          "execution_count": 760
        }
      ]
    },
    {
      "cell_type": "code",
      "metadata": {
        "colab": {
          "base_uri": "https://localhost:8080/"
        },
        "id": "te8YYBpcqeR-",
        "outputId": "dca330f2-b1e9-437c-e716-964b07bbbadb"
      },
      "source": [
        "train_df.info()"
      ],
      "execution_count": 761,
      "outputs": [
        {
          "output_type": "stream",
          "text": [
            "<class 'pandas.core.frame.DataFrame'>\n",
            "RangeIndex: 10000 entries, 0 to 9999\n",
            "Data columns (total 23 columns):\n",
            " #   Column         Non-Null Count  Dtype   \n",
            "---  ------         --------------  -----   \n",
            " 0   Id             10000 non-null  object  \n",
            " 1   DistrictId     10000 non-null  object  \n",
            " 2   Rooms          10000 non-null  float64 \n",
            " 3   Square         10000 non-null  float64 \n",
            " 4   LifeSquare     10000 non-null  float64 \n",
            " 5   KitchenSquare  10000 non-null  float64 \n",
            " 6   Floor          10000 non-null  float64 \n",
            " 7   HouseFloor     10000 non-null  float64 \n",
            " 8   HouseYear      10000 non-null  int64   \n",
            " 9   Ecology_1      10000 non-null  float64 \n",
            " 10  Ecology_2      10000 non-null  category\n",
            " 11  Ecology_3      10000 non-null  category\n",
            " 12  Social_1       10000 non-null  int64   \n",
            " 13  Social_2       10000 non-null  int64   \n",
            " 14  Social_3       10000 non-null  int64   \n",
            " 15  Helthcare_2    10000 non-null  int64   \n",
            " 16  Shops_1        10000 non-null  int64   \n",
            " 17  Shops_2        10000 non-null  category\n",
            " 18  Price          10000 non-null  float64 \n",
            " 19  Social_PCA     10000 non-null  float64 \n",
            " 20  Low_rise       10000 non-null  category\n",
            " 21  last_floor     10000 non-null  int64   \n",
            " 22  year_cat       10000 non-null  category\n",
            "dtypes: category(5), float64(9), int64(7), object(2)\n",
            "memory usage: 1.4+ MB\n"
          ],
          "name": "stdout"
        }
      ]
    },
    {
      "cell_type": "markdown",
      "metadata": {
        "id": "w16kBkTzcdhm"
      },
      "source": [
        "#### class FeatureGenetator"
      ]
    },
    {
      "cell_type": "code",
      "metadata": {
        "id": "GrwYMx02c6D2"
      },
      "source": [
        "class FeatureGenetator():\n",
        "    \"\"\"Генерация новых фич\"\"\"\n",
        "    \n",
        "    def __init__(self):\n",
        "        self.binary_to_numbers = None\n",
        "        self.pca_features = None\n",
        "                \n",
        "    def fit(self, X):\n",
        "        \n",
        "        # X = X.copy()\n",
        "        \n",
        "        # Binary features\n",
        "        self.binary_to_numbers = {'A': 0, 'B': 1}\n",
        "        \n",
        "        # PCA 1-comp features\n",
        "        self.pca_features = PCA(n_components=1,  random_state=42)\n",
        "\n",
        "    def transform(self, X):\n",
        "        \n",
        "        # Binary features\n",
        "        X['Ecology_2'] = X['Ecology_2'].map(self.binary_to_numbers)  # self.binary_to_numbers = {'A': 0, 'B': 1}\n",
        "        X['Ecology_3'] = X['Ecology_3'].map(self.binary_to_numbers)\n",
        "        X['Shops_2'] = X['Shops_2'].map(self.binary_to_numbers)\n",
        "        \n",
        "        # X_for_pca = X[['Social_1', 'Social_2']]\n",
        "        X['Social_PCA'] = self.pca_features.fit_transform(X.loc[:,['Social_1', 'Social_2']])\n",
        "\n",
        "        # Low rise\n",
        "        X['Low_rise'] = 0\n",
        "        X.loc[X['HouseFloor'] < 3, 'Low_rise'] = 1\n",
        "        \n",
        "        # Last floor\n",
        "        X['last_floor'] = 0\n",
        "        X.loc[(X['HouseFloor'] > 17) & (X['Floor'] == X['HouseFloor']),\\\n",
        "                     'last_floor'] = 1\n",
        "\n",
        "        # HouseYear category\n",
        "        X['year_cat'] = 0\n",
        "\n",
        "        X.loc[X['HouseYear'] <= 1945, 'year_cat'] = 1\n",
        "        X.loc[(X['HouseYear'] > 1945) & (X['HouseYear'] <= 1980), 'year_cat'] = 2\n",
        "        X.loc[(X['HouseYear'] > 1980) & (X['HouseYear'] <= 2000), 'year_cat'] = 3\n",
        "        X.loc[(X['HouseYear'] > 2000) & (X['HouseYear'] <= 2017), 'year_cat'] = 4\n",
        "        X.loc[(X['HouseYear'] > 2017), 'year_cat'] = 5\n",
        "\n",
        "        # .astype\n",
        "        X['Ecology_2'] = X['Ecology_2'].astype('category')\n",
        "        X['Ecology_3'] = X['Ecology_3'].astype('category')\n",
        "        X['Shops_2'] = X['Shops_2'].astype('category')\n",
        "        X['Low_rise'] = X['Low_rise'].astype('category')\n",
        "        X['last_floor'] = X['last_floor'].astype('category')\n",
        "        X['year_cat'] = X['year_cat'].astype('category')\n",
        "       \n",
        "        return X"
      ],
      "execution_count": 762,
      "outputs": []
    },
    {
      "cell_type": "markdown",
      "metadata": {
        "id": "u5cTsl9affL1"
      },
      "source": [
        "### Отбор признаков"
      ]
    },
    {
      "cell_type": "code",
      "metadata": {
        "id": "xxrYhU0hratJ"
      },
      "source": [
        "target_name = 'Price'\n",
        "feature_names = ['DistrictId', 'Rooms', 'Square', 'LifeSquare', 'KitchenSquare', 'Floor', 'HouseFloor', 'Ecology_1', 'Ecology_2', \\\n",
        "                 'Ecology_3', 'Social_3', 'Helthcare_2', 'Shops_1', 'Shops_2', 'Social_PCA', 'Low_rise', 'last_floor', 'year_cat']"
      ],
      "execution_count": 763,
      "outputs": []
    },
    {
      "cell_type": "markdown",
      "metadata": {
        "id": "r59bdyyfhBd7"
      },
      "source": [
        "### Разбиение на train / valid"
      ]
    },
    {
      "cell_type": "code",
      "metadata": {
        "id": "yi-QFBDm4LYQ"
      },
      "source": [
        "train_df = pd.read_csv('MyDrive/Python Libraries for Data Science/train.csv')\n",
        "test_df = pd.read_csv('MyDrive/Python Libraries for Data Science/test.csv')"
      ],
      "execution_count": 764,
      "outputs": []
    },
    {
      "cell_type": "code",
      "metadata": {
        "id": "1-WpHZki5KVU"
      },
      "source": [
        "X = train_df\n",
        "y = train_df[target_name]"
      ],
      "execution_count": 765,
      "outputs": []
    },
    {
      "cell_type": "code",
      "metadata": {
        "id": "XN7dOynTr5zL"
      },
      "source": [
        "X_train, X_valid, y_train, y_valid = train_test_split(X, y, test_size=0.25, random_state=99)"
      ],
      "execution_count": 766,
      "outputs": []
    },
    {
      "cell_type": "code",
      "metadata": {
        "id": "AVjgBn1A4ZaB"
      },
      "source": [
        "preprocessor = DataPreprocessing()\n",
        "preprocessor.fit(X_train)\n",
        "\n",
        "X_train = preprocessor.transform(X_train)\n",
        "X_valid = preprocessor.transform(X_valid)\n",
        "test_df = preprocessor.transform(test_df)\n",
        "\n",
        "# X_train.shape, X_valid.shape, test_df.shape"
      ],
      "execution_count": 767,
      "outputs": []
    },
    {
      "cell_type": "code",
      "metadata": {
        "id": "cPJEiD865W9Y"
      },
      "source": [
        "features_gen = FeatureGenetator()\n",
        "features_gen.fit(X_train)\n",
        "\n",
        "X_train = features_gen.transform(X_train)\n",
        "X_valid = features_gen.transform(X_valid)\n",
        "test_df = features_gen.transform(test_df)\n",
        "\n",
        "# X_train.shape, X_valid.shape, test_df.shape"
      ],
      "execution_count": 768,
      "outputs": []
    },
    {
      "cell_type": "code",
      "metadata": {
        "colab": {
          "base_uri": "https://localhost:8080/"
        },
        "id": "0S00cZqp7IKp",
        "outputId": "d27c0cb6-0401-4440-e595-7e150e5e6504"
      },
      "source": [
        "# В модель берем только отобранные признаки\n",
        "X_train = X_train[feature_names]\n",
        "X_valid = X_valid[feature_names]\n",
        "test_df = test_df[feature_names]\n",
        "\n",
        "X_train.shape, X_valid.shape, test_df.shape"
      ],
      "execution_count": 769,
      "outputs": [
        {
          "output_type": "execute_result",
          "data": {
            "text/plain": [
              "((7500, 18), (2500, 18), (5000, 18))"
            ]
          },
          "metadata": {
            "tags": []
          },
          "execution_count": 769
        }
      ]
    },
    {
      "cell_type": "markdown",
      "metadata": {
        "id": "ixH2lbRJgxGN"
      },
      "source": [
        "## 3. Построение модели"
      ]
    },
    {
      "cell_type": "code",
      "metadata": {
        "id": "AZXTYvr8krzg"
      },
      "source": [
        "# parameters = {\n",
        "#     # 'n_estimators': [80, 120, 160], [10, 50, 100] начиная от 80 параметр перестает значимо влиять на метрику\n",
        "#     'max_features': np.arange(6, 14),  # np.arange(6, 12)\n",
        "#     'max_depth': np.arange(6, 12), # np.arange(8, 16), np.arange(5, 12) более 12 уровней ведет к переобучению \n",
        "# }\n",
        "\n",
        "# rf_model = GridSearchCV(\n",
        "#     estimator=RandomForestRegressor(n_estimators=100, random_state=99),\n",
        "#     param_grid=parameters,\n",
        "#     scoring='r2',\n",
        "#     cv=5, # cv=4\n",
        "# )"
      ],
      "execution_count": 770,
      "outputs": []
    },
    {
      "cell_type": "code",
      "metadata": {
        "id": "nuCzn3qXmE2d"
      },
      "source": [
        "# rf_model.fit(X_train, y_train)"
      ],
      "execution_count": 771,
      "outputs": []
    },
    {
      "cell_type": "code",
      "metadata": {
        "id": "Kai31FfVnHCk"
      },
      "source": [
        "# cv_results = pd.DataFrame(rf_model.cv_results_)\n",
        "\n",
        "# cv_results.columns"
      ],
      "execution_count": 772,
      "outputs": []
    },
    {
      "cell_type": "code",
      "metadata": {
        "id": "uUcovWLfnHhA"
      },
      "source": [
        "# param_columns = [column for column in cv_results.columns \n",
        "#                  if column.startswith('param_')]\n",
        "\n",
        "# score_columns = ['mean_test_score']\n",
        "\n",
        "# cv_results = (cv_results[param_columns + score_columns].sort_values(by=score_columns, ascending=False))\n",
        "\n",
        "# cv_results.head(10)"
      ],
      "execution_count": 773,
      "outputs": []
    },
    {
      "cell_type": "code",
      "metadata": {
        "id": "mWFFHTBkux7x"
      },
      "source": [
        "# rf_model.best_params_"
      ],
      "execution_count": 774,
      "outputs": []
    },
    {
      "cell_type": "code",
      "metadata": {
        "id": "VXWGkoQ8zCER"
      },
      "source": [
        "rf_model_fin = RandomForestRegressor(max_depth=11, max_features=8, n_estimators=100, random_state=99)\n",
        "\n",
        "rf_model_fin.fit(X_train, y_train)\n",
        "\n",
        "y_valid_pred = rf_model_fin.predict(X_valid)\n",
        "y_train_pred = rf_model_fin.predict(X_train)\n",
        "\n",
        "# r2(y_valid, y_pred)"
      ],
      "execution_count": 775,
      "outputs": []
    },
    {
      "cell_type": "code",
      "metadata": {
        "id": "UcNRmgwDztXG"
      },
      "source": [
        "def evaluate_preds(train_true_values, train_pred_values, test_true_values, test_pred_values):\n",
        "    \"\"\"Оценка качества модели и график preds vs true\"\"\"\n",
        "\n",
        "    print(\"Train R2:\\t\" + str(round(r2(train_true_values, train_pred_values), 3)))\n",
        "    print(\"Test R2:\\t\" + str(round(r2(test_true_values, test_pred_values), 3)))\n",
        "    \n",
        "    plt.figure(figsize=(16,6))\n",
        "    \n",
        "    plt.subplot(121)\n",
        "    sns.scatterplot(x=train_pred_values, y=train_true_values)\n",
        "    plt.plot([0, 600000], [0, 600000], linestyle='--', color='black')  # диагональ, где true_values = pred_values\n",
        "    \n",
        "    plt.xlabel('Predicted values')\n",
        "    plt.ylabel('True values')\n",
        "    plt.title('Train sample prediction')\n",
        "    \n",
        "    plt.subplot(122)\n",
        "    sns.scatterplot(x=test_pred_values, y=test_true_values)\n",
        "    plt.plot([0, 600000], [0, 600000], linestyle='--', color='black')  # диагональ, где true_values = pred_values\n",
        "    \n",
        "    plt.xlabel('Predicted values')\n",
        "    plt.ylabel('True values')\n",
        "    plt.title('Test sample prediction')\n",
        "\n",
        "    plt.show()"
      ],
      "execution_count": 776,
      "outputs": []
    },
    {
      "cell_type": "code",
      "metadata": {
        "colab": {
          "base_uri": "https://localhost:8080/",
          "height": 457
        },
        "id": "dN_VhUABzzRJ",
        "outputId": "acc68304-271b-4547-e5e1-55a9b9dc5039"
      },
      "source": [
        "y_train_preds = np.clip(y_train_pred, a_min=5000, a_max=600000)\n",
        "evaluate_preds(y_train, y_train_pred, y_valid, y_valid_pred)"
      ],
      "execution_count": 777,
      "outputs": [
        {
          "output_type": "stream",
          "text": [
            "Train R2:\t0.872\n",
            "Test R2:\t0.733\n"
          ],
          "name": "stdout"
        },
        {
          "output_type": "display_data",
          "data": {
            "image/png": "[encoded data removed]",
            "text/plain": [
              "<Figure size 1152x432 with 2 Axes>"
            ]
          },
          "metadata": {
            "tags": []
          }
        }
      ]
    },
    {
      "cell_type": "markdown",
      "metadata": {
        "id": "nmKFVi6X-2km"
      },
      "source": [
        "## 4. Прогнозирование на тестовом датасете"
      ]
    },
    {
      "cell_type": "code",
      "metadata": {
        "colab": {
          "base_uri": "https://localhost:8080/",
          "height": 427
        },
        "id": "QoEJRzb6-6Ca",
        "outputId": "c393aeed-5ca4-4703-bcb8-1d4979b49b98"
      },
      "source": [
        "test_df"
      ],
      "execution_count": 778,
      "outputs": [
        {
          "output_type": "execute_result",
          "data": {
            "text/html": [
              "<div>\n",
              "<style scoped>\n",
              "    .dataframe tbody tr th:only-of-type {\n",
              "        vertical-align: middle;\n",
              "    }\n",
              "\n",
              "    .dataframe tbody tr th {\n",
              "        vertical-align: top;\n",
              "    }\n",
              "\n",
              "    .dataframe thead th {\n",
              "        text-align: right;\n",
              "    }\n",
              "</style>\n",
              "<table border=\"1\" class=\"dataframe\">\n",
              "  <thead>\n",
              "    <tr style=\"text-align: right;\">\n",
              "      <th></th>\n",
              "      <th>DistrictId</th>\n",
              "      <th>Rooms</th>\n",
              "      <th>Square</th>\n",
              "      <th>LifeSquare</th>\n",
              "      <th>KitchenSquare</th>\n",
              "      <th>Floor</th>\n",
              "      <th>HouseFloor</th>\n",
              "      <th>Ecology_1</th>\n",
              "      <th>Ecology_2</th>\n",
              "      <th>Ecology_3</th>\n",
              "      <th>Social_3</th>\n",
              "      <th>Helthcare_2</th>\n",
              "      <th>Shops_1</th>\n",
              "      <th>Shops_2</th>\n",
              "      <th>Social_PCA</th>\n",
              "      <th>Low_rise</th>\n",
              "      <th>last_floor</th>\n",
              "      <th>year_cat</th>\n",
              "    </tr>\n",
              "  </thead>\n",
              "  <tbody>\n",
              "    <tr>\n",
              "      <th>0</th>\n",
              "      <td>44</td>\n",
              "      <td>1.0</td>\n",
              "      <td>36.847630</td>\n",
              "      <td>19.094182</td>\n",
              "      <td>5.0</td>\n",
              "      <td>5.0</td>\n",
              "      <td>9.0</td>\n",
              "      <td>0.036122</td>\n",
              "      <td>1</td>\n",
              "      <td>1</td>\n",
              "      <td>0</td>\n",
              "      <td>1</td>\n",
              "      <td>1</td>\n",
              "      <td>1</td>\n",
              "      <td>-1028.894976</td>\n",
              "      <td>0</td>\n",
              "      <td>0</td>\n",
              "      <td>2</td>\n",
              "    </tr>\n",
              "    <tr>\n",
              "      <th>1</th>\n",
              "      <td>62</td>\n",
              "      <td>1.0</td>\n",
              "      <td>42.493907</td>\n",
              "      <td>39.832524</td>\n",
              "      <td>10.0</td>\n",
              "      <td>7.0</td>\n",
              "      <td>17.0</td>\n",
              "      <td>0.072158</td>\n",
              "      <td>1</td>\n",
              "      <td>1</td>\n",
              "      <td>1</td>\n",
              "      <td>0</td>\n",
              "      <td>0</td>\n",
              "      <td>0</td>\n",
              "      <td>-4777.954067</td>\n",
              "      <td>0</td>\n",
              "      <td>0</td>\n",
              "      <td>4</td>\n",
              "    </tr>\n",
              "    <tr>\n",
              "      <th>2</th>\n",
              "      <td>27</td>\n",
              "      <td>2.0</td>\n",
              "      <td>59.463678</td>\n",
              "      <td>47.463678</td>\n",
              "      <td>9.0</td>\n",
              "      <td>19.0</td>\n",
              "      <td>19.0</td>\n",
              "      <td>0.211401</td>\n",
              "      <td>1</td>\n",
              "      <td>1</td>\n",
              "      <td>0</td>\n",
              "      <td>0</td>\n",
              "      <td>1</td>\n",
              "      <td>1</td>\n",
              "      <td>-3514.935873</td>\n",
              "      <td>0</td>\n",
              "      <td>1</td>\n",
              "      <td>2</td>\n",
              "    </tr>\n",
              "    <tr>\n",
              "      <th>3</th>\n",
              "      <td>23</td>\n",
              "      <td>3.0</td>\n",
              "      <td>49.646030</td>\n",
              "      <td>33.893825</td>\n",
              "      <td>6.0</td>\n",
              "      <td>2.0</td>\n",
              "      <td>2.0</td>\n",
              "      <td>0.014073</td>\n",
              "      <td>1</td>\n",
              "      <td>1</td>\n",
              "      <td>0</td>\n",
              "      <td>0</td>\n",
              "      <td>0</td>\n",
              "      <td>1</td>\n",
              "      <td>-4931.952734</td>\n",
              "      <td>1</td>\n",
              "      <td>0</td>\n",
              "      <td>2</td>\n",
              "    </tr>\n",
              "    <tr>\n",
              "      <th>4</th>\n",
              "      <td>74</td>\n",
              "      <td>1.0</td>\n",
              "      <td>53.837056</td>\n",
              "      <td>49.837056</td>\n",
              "      <td>3.0</td>\n",
              "      <td>8.0</td>\n",
              "      <td>17.0</td>\n",
              "      <td>0.309479</td>\n",
              "      <td>1</td>\n",
              "      <td>1</td>\n",
              "      <td>4</td>\n",
              "      <td>0</td>\n",
              "      <td>6</td>\n",
              "      <td>1</td>\n",
              "      <td>2308.121905</td>\n",
              "      <td>0</td>\n",
              "      <td>0</td>\n",
              "      <td>2</td>\n",
              "    </tr>\n",
              "    <tr>\n",
              "      <th>...</th>\n",
              "      <td>...</td>\n",
              "      <td>...</td>\n",
              "      <td>...</td>\n",
              "      <td>...</td>\n",
              "      <td>...</td>\n",
              "      <td>...</td>\n",
              "      <td>...</td>\n",
              "      <td>...</td>\n",
              "      <td>...</td>\n",
              "      <td>...</td>\n",
              "      <td>...</td>\n",
              "      <td>...</td>\n",
              "      <td>...</td>\n",
              "      <td>...</td>\n",
              "      <td>...</td>\n",
              "      <td>...</td>\n",
              "      <td>...</td>\n",
              "      <td>...</td>\n",
              "    </tr>\n",
              "    <tr>\n",
              "      <th>4995</th>\n",
              "      <td>29</td>\n",
              "      <td>2.0</td>\n",
              "      <td>43.177521</td>\n",
              "      <td>30.339945</td>\n",
              "      <td>5.0</td>\n",
              "      <td>5.0</td>\n",
              "      <td>5.0</td>\n",
              "      <td>0.069660</td>\n",
              "      <td>1</td>\n",
              "      <td>1</td>\n",
              "      <td>4</td>\n",
              "      <td>1</td>\n",
              "      <td>2</td>\n",
              "      <td>1</td>\n",
              "      <td>712.119079</td>\n",
              "      <td>0</td>\n",
              "      <td>0</td>\n",
              "      <td>2</td>\n",
              "    </tr>\n",
              "    <tr>\n",
              "      <th>4996</th>\n",
              "      <td>38</td>\n",
              "      <td>3.0</td>\n",
              "      <td>93.698122</td>\n",
              "      <td>124.601250</td>\n",
              "      <td>10.0</td>\n",
              "      <td>21.0</td>\n",
              "      <td>27.0</td>\n",
              "      <td>0.060753</td>\n",
              "      <td>1</td>\n",
              "      <td>1</td>\n",
              "      <td>2</td>\n",
              "      <td>0</td>\n",
              "      <td>7</td>\n",
              "      <td>1</td>\n",
              "      <td>-2619.918653</td>\n",
              "      <td>0</td>\n",
              "      <td>0</td>\n",
              "      <td>5</td>\n",
              "    </tr>\n",
              "    <tr>\n",
              "      <th>4997</th>\n",
              "      <td>101</td>\n",
              "      <td>1.0</td>\n",
              "      <td>33.656723</td>\n",
              "      <td>19.003259</td>\n",
              "      <td>5.0</td>\n",
              "      <td>2.0</td>\n",
              "      <td>5.0</td>\n",
              "      <td>0.038693</td>\n",
              "      <td>1</td>\n",
              "      <td>1</td>\n",
              "      <td>1</td>\n",
              "      <td>2</td>\n",
              "      <td>5</td>\n",
              "      <td>1</td>\n",
              "      <td>1126.103009</td>\n",
              "      <td>0</td>\n",
              "      <td>0</td>\n",
              "      <td>2</td>\n",
              "    </tr>\n",
              "    <tr>\n",
              "      <th>4998</th>\n",
              "      <td>10</td>\n",
              "      <td>1.0</td>\n",
              "      <td>38.635155</td>\n",
              "      <td>20.976257</td>\n",
              "      <td>9.0</td>\n",
              "      <td>8.0</td>\n",
              "      <td>14.0</td>\n",
              "      <td>0.089040</td>\n",
              "      <td>1</td>\n",
              "      <td>1</td>\n",
              "      <td>5</td>\n",
              "      <td>0</td>\n",
              "      <td>11</td>\n",
              "      <td>1</td>\n",
              "      <td>2569.111321</td>\n",
              "      <td>0</td>\n",
              "      <td>0</td>\n",
              "      <td>2</td>\n",
              "    </tr>\n",
              "    <tr>\n",
              "      <th>4999</th>\n",
              "      <td>21</td>\n",
              "      <td>2.0</td>\n",
              "      <td>67.122742</td>\n",
              "      <td>33.944344</td>\n",
              "      <td>13.0</td>\n",
              "      <td>9.0</td>\n",
              "      <td>17.0</td>\n",
              "      <td>0.194489</td>\n",
              "      <td>1</td>\n",
              "      <td>1</td>\n",
              "      <td>3</td>\n",
              "      <td>3</td>\n",
              "      <td>5</td>\n",
              "      <td>1</td>\n",
              "      <td>2597.169342</td>\n",
              "      <td>0</td>\n",
              "      <td>0</td>\n",
              "      <td>4</td>\n",
              "    </tr>\n",
              "  </tbody>\n",
              "</table>\n",
              "<p>5000 rows × 18 columns</p>\n",
              "</div>"
            ],
            "text/plain": [
              "      DistrictId  Rooms     Square  ...  Low_rise  last_floor  year_cat\n",
              "0             44    1.0  36.847630  ...         0           0         2\n",
              "1             62    1.0  42.493907  ...         0           0         4\n",
              "2             27    2.0  59.463678  ...         0           1         2\n",
              "3             23    3.0  49.646030  ...         1           0         2\n",
              "4             74    1.0  53.837056  ...         0           0         2\n",
              "...          ...    ...        ...  ...       ...         ...       ...\n",
              "4995          29    2.0  43.177521  ...         0           0         2\n",
              "4996          38    3.0  93.698122  ...         0           0         5\n",
              "4997         101    1.0  33.656723  ...         0           0         2\n",
              "4998          10    1.0  38.635155  ...         0           0         2\n",
              "4999          21    2.0  67.122742  ...         0           0         4\n",
              "\n",
              "[5000 rows x 18 columns]"
            ]
          },
          "metadata": {
            "tags": []
          },
          "execution_count": 778
        }
      ]
    },
    {
      "cell_type": "code",
      "metadata": {
        "id": "bWzovAbdz1IO",
        "colab": {
          "base_uri": "https://localhost:8080/"
        },
        "outputId": "4e4f345e-6875-488e-9cd3-199373343143"
      },
      "source": [
        "predictions = rf_model_fin.predict(test_df)\n",
        "predictions"
      ],
      "execution_count": 779,
      "outputs": [
        {
          "output_type": "execute_result",
          "data": {
            "text/plain": [
              "array([158880.02193247, 120425.19734326, 144415.92256617, ...,\n",
              "       151857.8276615 , 185855.13179673, 261505.01363593])"
            ]
          },
          "metadata": {
            "tags": []
          },
          "execution_count": 779
        }
      ]
    },
    {
      "cell_type": "code",
      "metadata": {
        "colab": {
          "base_uri": "https://localhost:8080/",
          "height": 197
        },
        "id": "Sw38idME-3bv",
        "outputId": "3d5f182e-604e-4161-c45f-6b71a8f08014"
      },
      "source": [
        "submit = pd.read_csv('MyDrive/Python Libraries for Data Science/sample_submission.csv')\n",
        "submit['Price'] = predictions\n",
        "submit.head()"
      ],
      "execution_count": 780,
      "outputs": [
        {
          "output_type": "execute_result",
          "data": {
            "text/html": [
              "<div>\n",
              "<style scoped>\n",
              "    .dataframe tbody tr th:only-of-type {\n",
              "        vertical-align: middle;\n",
              "    }\n",
              "\n",
              "    .dataframe tbody tr th {\n",
              "        vertical-align: top;\n",
              "    }\n",
              "\n",
              "    .dataframe thead th {\n",
              "        text-align: right;\n",
              "    }\n",
              "</style>\n",
              "<table border=\"1\" class=\"dataframe\">\n",
              "  <thead>\n",
              "    <tr style=\"text-align: right;\">\n",
              "      <th></th>\n",
              "      <th>Id</th>\n",
              "      <th>Price</th>\n",
              "    </tr>\n",
              "  </thead>\n",
              "  <tbody>\n",
              "    <tr>\n",
              "      <th>0</th>\n",
              "      <td>4567</td>\n",
              "      <td>158880.021932</td>\n",
              "    </tr>\n",
              "    <tr>\n",
              "      <th>1</th>\n",
              "      <td>5925</td>\n",
              "      <td>120425.197343</td>\n",
              "    </tr>\n",
              "    <tr>\n",
              "      <th>2</th>\n",
              "      <td>960</td>\n",
              "      <td>144415.922566</td>\n",
              "    </tr>\n",
              "    <tr>\n",
              "      <th>3</th>\n",
              "      <td>3848</td>\n",
              "      <td>115517.623972</td>\n",
              "    </tr>\n",
              "    <tr>\n",
              "      <th>4</th>\n",
              "      <td>746</td>\n",
              "      <td>229278.896871</td>\n",
              "    </tr>\n",
              "  </tbody>\n",
              "</table>\n",
              "</div>"
            ],
            "text/plain": [
              "     Id          Price\n",
              "0  4567  158880.021932\n",
              "1  5925  120425.197343\n",
              "2   960  144415.922566\n",
              "3  3848  115517.623972\n",
              "4   746  229278.896871"
            ]
          },
          "metadata": {
            "tags": []
          },
          "execution_count": 780
        }
      ]
    },
    {
      "cell_type": "code",
      "metadata": {
        "id": "dD518bagRphl"
      },
      "source": [
        "submit.to_csv('MyDrive/Python Libraries for Data Science/rf_submit.csv', index=False)"
      ],
      "execution_count": 782,
      "outputs": []
    }
  ]
}